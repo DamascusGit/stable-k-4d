{
  "cells": [
    {
      "cell_type": "markdown",
      "metadata": {
        "tags": [],
        "id": "cdyweXLq09gU"
      },
      "source": [
        "# STABLE-K-4D\n",
        "\n",
        "jupyter/colab implementation of [Stable Diffusion](https://github.com/CompVis/stable-diffusion) and Katherine Crowson's [k-diffusion wrapper](https://github.com/crowsonkb/k-diffusion) in order to use the k_lms sampler  by [karan4d](https://twitter.com/karan4d) aka [DamascusGit](https://github.com/DamascusGit). The notebook utilizes CPU draw manual seeding with k_lms and has a weird quantize.py adjustment in an attempt to best replicate the results from Simulacra/Dreambot using the stable-diffusion weights.\n",
        "\n",
        "implemented with the help of [Katherine Crowson](https://https://twitter.com/rivershavewings), palp, wbrown, and litexev. shoutout SimulacraBot/DreamBot and their team, as well as the good folks over at EleutherAI + StabilityAI."
      ]
    },
    {
      "cell_type": "code",
      "source": [
        "# FOR COLAB\n",
        "\n",
        "from google.colab import drive\n",
        "drive.mount('/content/drive')"
      ],
      "metadata": {
        "colab": {
          "base_uri": "https://localhost:8080/"
        },
        "id": "EMZ1nT2B1nG1",
        "outputId": "48f99f75-5657-43dd-84e6-b9255fc05a27"
      },
      "execution_count": 1,
      "outputs": [
        {
          "output_type": "stream",
          "name": "stdout",
          "text": [
            "Mounted at /content/drive\n"
          ]
        }
      ]
    },
    {
      "cell_type": "code",
      "execution_count": 2,
      "metadata": {
        "colab": {
          "base_uri": "https://localhost:8080/"
        },
        "id": "vBAxxY1rG-vH",
        "outputId": "1edb8ae3-3295-4980-e03b-9c6b1a855cd1"
      },
      "outputs": [
        {
          "output_type": "stream",
          "name": "stdout",
          "text": [
            "mkdir: cannot create directory ‘/workspace/StableRun’: No such file or directory\n",
            "[Errno 2] No such file or directory: '/workspace/StableRun'\n",
            "/content\n",
            "✨🍰✨ Everything looks OK!\n",
            "conda 4.9.2\n",
            "condacolab_install.log\tdrive  sample_data\n"
          ]
        }
      ],
      "source": [
        "#USE THIS FOR JUPYTER\n",
        "\n",
        "#%mkdir /workspace/StableRun\n",
        "#%cd /workspace/StableRun\n",
        "\n",
        "#USE THIS FOR COLAB\n",
        "\n",
        "%mkdir /content/drive/MyDrive/StableRun/\n",
        "%cd /content/drive/MyDrive/StableRun/\n",
        "\n",
        "!pip install -q condacolab\n",
        "import condacolab\n",
        "condacolab.install()\n",
        "\n",
        "!conda --version\n",
        "#If !conda --version returns no results, install conda with :\n",
        "#!pip install -q condacolab\n",
        "#import condacolab\n",
        "#condacolab.install()\n",
        "\n",
        "!ls\n"
      ]
    },
    {
      "cell_type": "markdown",
      "metadata": {
        "id": "pYdmG6nYqJ7E",
        "tags": []
      },
      "source": [
        "# First time setup.\n",
        "\n",
        "You must have weights."
      ]
    },
    {
      "cell_type": "code",
      "execution_count": null,
      "metadata": {
        "colab": {
          "base_uri": "https://localhost:8080/"
        },
        "id": "x514OvQWHP6W",
        "outputId": "27cbbed3-cb89-48bf-f2be-13e92da6ba13"
      },
      "outputs": [
        {
          "name": "stdout",
          "output_type": "stream",
          "text": [
            "/workspace/StableRun\n"
          ]
        }
      ],
      "source": [
        "%cd /workspace/StableRun"
      ]
    },
    {
      "cell_type": "code",
      "execution_count": null,
      "metadata": {
        "colab": {
          "base_uri": "https://localhost:8080/"
        },
        "id": "FVP2pm22H-6e",
        "outputId": "5c4651ce-5a64-4527-a022-09f44d9becf8"
      },
      "outputs": [
        {
          "name": "stdout",
          "output_type": "stream",
          "text": [
            "Cloning into 'stable-diffusion'...\n",
            "remote: Enumerating objects: 290, done.\u001b[K\n",
            "remote: Counting objects: 100% (57/57), done.\u001b[K\n",
            "remote: Compressing objects: 100% (32/32), done.\u001b[K\n",
            "remote: Total 290 (delta 37), reused 25 (delta 25), pack-reused 233\u001b[K\n",
            "Receiving objects: 100% (290/290), 42.34 MiB | 4.80 MiB/s, done.\n",
            "Resolving deltas: 100% (96/96), done.\n"
          ]
        }
      ],
      "source": [
        "!git clone https://github.com/DamascusGit/stable-diffusion"
      ]
    },
    {
      "cell_type": "markdown",
      "metadata": {
        "id": "EJ9uypP-_kJZ",
        "tags": []
      },
      "source": [
        "# Redirect"
      ]
    },
    {
      "cell_type": "code",
      "execution_count": 12,
      "metadata": {
        "colab": {
          "base_uri": "https://localhost:8080/"
        },
        "id": "268jN0yHYt2x",
        "outputId": "f6df98a3-1abb-4158-db4e-75448dd50632"
      },
      "outputs": [
        {
          "output_type": "stream",
          "name": "stdout",
          "text": [
            "[Errno 2] No such file or directory: '/workspace/StableRun/stable-diffusion'\n",
            "/content/drive/MyDrive/StableRun\n",
            "/content/drive/MyDrive/StableRun/stable-diffusion\n"
          ]
        }
      ],
      "source": [
        "# use this for Jupyter\n",
        "%cd /workspace/StableRun/stable-diffusion\n",
        "\n",
        "# use this for Colab\n",
        "%cd /content/drive/MyDrive/StableRun/stable-diffusion"
      ]
    },
    {
      "cell_type": "markdown",
      "metadata": {
        "id": "skmLp5U6qGtD",
        "tags": []
      },
      "source": [
        "# Create Weak AF Environment\n",
        "\n",
        "Just click it, even if it does nothing after the first time."
      ]
    },
    {
      "cell_type": "code",
      "execution_count": 4,
      "metadata": {
        "colab": {
          "base_uri": "https://localhost:8080/"
        },
        "id": "mFGc6m_sIDqS",
        "outputId": "79bb23ee-9c3f-4f18-b0fc-8f70e830b8d9"
      },
      "outputs": [
        {
          "output_type": "stream",
          "name": "stdout",
          "text": [
            "\n",
            "EnvironmentFileNotFound: '/content/environment.yaml' file not found\n",
            "\n",
            "\n",
            "CommandNotFoundError: Your shell has not been properly configured to use 'conda activate'.\n",
            "To initialize your shell, run\n",
            "\n",
            "    $ conda init <SHELL_NAME>\n",
            "\n",
            "Currently supported shells are:\n",
            "  - bash\n",
            "  - fish\n",
            "  - tcsh\n",
            "  - xonsh\n",
            "  - zsh\n",
            "  - powershell\n",
            "\n",
            "See 'conda init --help' for more information and options.\n",
            "\n",
            "IMPORTANT: You may need to close and restart your shell after running 'conda init'.\n",
            "\n",
            "\n"
          ]
        }
      ],
      "source": [
        "!conda env create -f environment.yaml\n",
        "!conda activate ldm"
      ]
    },
    {
      "cell_type": "markdown",
      "metadata": {
        "id": "MkkX5ErRqDLM",
        "tags": []
      },
      "source": [
        "# Shitty Dependency Code"
      ]
    },
    {
      "cell_type": "code",
      "execution_count": null,
      "metadata": {
        "colab": {
          "base_uri": "https://localhost:8080/"
        },
        "id": "E_UAtsmbEQ5X",
        "outputId": "e4d575c7-592a-459a-8f8b-7883a75c40e3"
      },
      "outputs": [
        {
          "output_type": "stream",
          "name": "stdout",
          "text": [
            "Looking in indexes: https://pypi.org/simple, https://us-python.pkg.dev/colab-wheels/public/simple/\n",
            "Requirement already satisfied: transformers==4.19.2 in /usr/local/lib/python3.7/site-packages (4.19.2)\n",
            "Requirement already satisfied: pyyaml>=5.1 in /usr/local/lib/python3.7/site-packages (from transformers==4.19.2) (6.0)\n",
            "Requirement already satisfied: huggingface-hub<1.0,>=0.1.0 in /usr/local/lib/python3.7/site-packages (from transformers==4.19.2) (0.8.1)\n",
            "Requirement already satisfied: tokenizers!=0.11.3,<0.13,>=0.11.1 in /usr/local/lib/python3.7/site-packages (from transformers==4.19.2) (0.12.1)\n",
            "Requirement already satisfied: tqdm>=4.27 in /usr/local/lib/python3.7/site-packages (from transformers==4.19.2) (4.59.0)\n",
            "Requirement already satisfied: regex!=2019.12.17 in /usr/local/lib/python3.7/site-packages (from transformers==4.19.2) (2022.8.17)\n",
            "Requirement already satisfied: filelock in /usr/local/lib/python3.7/site-packages (from transformers==4.19.2) (3.8.0)\n",
            "Requirement already satisfied: numpy>=1.17 in /usr/local/lib/python3.7/site-packages (from transformers==4.19.2) (1.20.3)\n",
            "Requirement already satisfied: requests in /usr/local/lib/python3.7/site-packages (from transformers==4.19.2) (2.25.1)\n",
            "Requirement already satisfied: packaging>=20.0 in /usr/local/lib/python3.7/site-packages (from transformers==4.19.2) (21.3)\n",
            "Requirement already satisfied: importlib-metadata in /usr/local/lib/python3.7/site-packages (from transformers==4.19.2) (4.12.0)\n",
            "Requirement already satisfied: typing-extensions>=3.7.4.3 in /usr/local/lib/python3.7/site-packages (from huggingface-hub<1.0,>=0.1.0->transformers==4.19.2) (4.3.0)\n",
            "Requirement already satisfied: pyparsing!=3.0.5,>=2.0.2 in /usr/local/lib/python3.7/site-packages (from packaging>=20.0->transformers==4.19.2) (3.0.9)\n",
            "Requirement already satisfied: zipp>=0.5 in /usr/local/lib/python3.7/site-packages (from importlib-metadata->transformers==4.19.2) (3.8.1)\n",
            "Requirement already satisfied: urllib3<1.27,>=1.21.1 in /usr/local/lib/python3.7/site-packages (from requests->transformers==4.19.2) (1.26.11)\n",
            "Requirement already satisfied: certifi>=2017.4.17 in /usr/local/lib/python3.7/site-packages (from requests->transformers==4.19.2) (2022.6.15)\n",
            "Requirement already satisfied: idna<3,>=2.5 in /usr/local/lib/python3.7/site-packages (from requests->transformers==4.19.2) (2.10)\n",
            "Requirement already satisfied: chardet<5,>=3.0.2 in /usr/local/lib/python3.7/site-packages (from requests->transformers==4.19.2) (4.0.0)\n",
            "Looking in indexes: https://pypi.org/simple, https://us-python.pkg.dev/colab-wheels/public/simple/\n",
            "Obtaining file:///content/drive/MyDrive/StableRun/stable-diffusion\n",
            "Requirement already satisfied: torch in /usr/local/lib/python3.7/site-packages (from latent-diffusion==0.0.1) (1.12.1)\n",
            "Requirement already satisfied: numpy in /usr/local/lib/python3.7/site-packages (from latent-diffusion==0.0.1) (1.20.3)\n",
            "Requirement already satisfied: tqdm in /usr/local/lib/python3.7/site-packages (from latent-diffusion==0.0.1) (4.59.0)\n",
            "Requirement already satisfied: typing_extensions in /usr/local/lib/python3.7/site-packages (from torch->latent-diffusion==0.0.1) (4.3.0)\n",
            "Installing collected packages: latent-diffusion\n",
            "  Attempting uninstall: latent-diffusion\n",
            "    Found existing installation: latent-diffusion 0.0.1\n",
            "    Uninstalling latent-diffusion-0.0.1:\n",
            "      Successfully uninstalled latent-diffusion-0.0.1\n",
            "  Running setup.py develop for latent-diffusion\n",
            "Successfully installed latent-diffusion\n",
            "Looking in indexes: https://pypi.org/simple, https://us-python.pkg.dev/colab-wheels/public/simple/\n",
            "Requirement already satisfied: omegaconf in /usr/local/lib/python3.7/site-packages (2.2.2)\n",
            "Requirement already satisfied: PyYAML>=5.1.0 in /usr/local/lib/python3.7/site-packages (from omegaconf) (6.0)\n",
            "Requirement already satisfied: antlr4-python3-runtime==4.9.* in /usr/local/lib/python3.7/site-packages (from omegaconf) (4.9.3)\n",
            "Looking in indexes: https://pypi.org/simple, https://us-python.pkg.dev/colab-wheels/public/simple/\n",
            "Requirement already satisfied: einops in /usr/local/lib/python3.7/site-packages (0.4.1)\n",
            "Looking in indexes: https://pypi.org/simple, https://us-python.pkg.dev/colab-wheels/public/simple/\n",
            "Requirement already satisfied: pytorch_lightning in /usr/local/lib/python3.7/site-packages (1.7.2)\n",
            "Requirement already satisfied: torch>=1.9.* in /usr/local/lib/python3.7/site-packages (from pytorch_lightning) (1.12.1)\n",
            "Requirement already satisfied: fsspec[http]!=2021.06.0,>=2021.05.0 in /usr/local/lib/python3.7/site-packages (from pytorch_lightning) (2022.7.1)\n",
            "Requirement already satisfied: tqdm>=4.57.0 in /usr/local/lib/python3.7/site-packages (from pytorch_lightning) (4.59.0)\n",
            "Requirement already satisfied: pyDeprecate>=0.3.1 in /usr/local/lib/python3.7/site-packages (from pytorch_lightning) (0.3.2)\n",
            "Requirement already satisfied: numpy>=1.17.2 in /usr/local/lib/python3.7/site-packages (from pytorch_lightning) (1.20.3)\n",
            "Requirement already satisfied: tensorboard>=2.9.1 in /usr/local/lib/python3.7/site-packages (from pytorch_lightning) (2.10.0)\n",
            "Requirement already satisfied: typing-extensions>=4.0.0 in /usr/local/lib/python3.7/site-packages (from pytorch_lightning) (4.3.0)\n",
            "Requirement already satisfied: packaging>=17.0 in /usr/local/lib/python3.7/site-packages (from pytorch_lightning) (21.3)\n",
            "Requirement already satisfied: torchmetrics>=0.7.0 in /usr/local/lib/python3.7/site-packages (from pytorch_lightning) (0.9.3)\n",
            "Requirement already satisfied: PyYAML>=5.4 in /usr/local/lib/python3.7/site-packages (from pytorch_lightning) (6.0)\n",
            "Requirement already satisfied: aiohttp in /usr/local/lib/python3.7/site-packages (from fsspec[http]!=2021.06.0,>=2021.05.0->pytorch_lightning) (3.8.1)\n",
            "Requirement already satisfied: requests in /usr/local/lib/python3.7/site-packages (from fsspec[http]!=2021.06.0,>=2021.05.0->pytorch_lightning) (2.25.1)\n",
            "Requirement already satisfied: pyparsing!=3.0.5,>=2.0.2 in /usr/local/lib/python3.7/site-packages (from packaging>=17.0->pytorch_lightning) (3.0.9)\n",
            "Requirement already satisfied: tensorboard-plugin-wit>=1.6.0 in /usr/local/lib/python3.7/site-packages (from tensorboard>=2.9.1->pytorch_lightning) (1.8.1)\n",
            "Requirement already satisfied: werkzeug>=1.0.1 in /usr/local/lib/python3.7/site-packages (from tensorboard>=2.9.1->pytorch_lightning) (2.2.2)\n",
            "Requirement already satisfied: google-auth-oauthlib<0.5,>=0.4.1 in /usr/local/lib/python3.7/site-packages (from tensorboard>=2.9.1->pytorch_lightning) (0.4.6)\n",
            "Requirement already satisfied: setuptools>=41.0.0 in /usr/local/lib/python3.7/site-packages (from tensorboard>=2.9.1->pytorch_lightning) (49.6.0.post20210108)\n",
            "Requirement already satisfied: wheel>=0.26 in /usr/local/lib/python3.7/site-packages (from tensorboard>=2.9.1->pytorch_lightning) (0.36.2)\n",
            "Requirement already satisfied: google-auth<3,>=1.6.3 in /usr/local/lib/python3.7/site-packages (from tensorboard>=2.9.1->pytorch_lightning) (2.10.0)\n",
            "Requirement already satisfied: markdown>=2.6.8 in /usr/local/lib/python3.7/site-packages (from tensorboard>=2.9.1->pytorch_lightning) (3.4.1)\n",
            "Requirement already satisfied: grpcio>=1.24.3 in /usr/local/lib/python3.7/site-packages (from tensorboard>=2.9.1->pytorch_lightning) (1.47.0)\n",
            "Requirement already satisfied: tensorboard-data-server<0.7.0,>=0.6.0 in /usr/local/lib/python3.7/site-packages (from tensorboard>=2.9.1->pytorch_lightning) (0.6.1)\n",
            "Requirement already satisfied: protobuf<3.20,>=3.9.2 in /usr/local/lib/python3.7/site-packages (from tensorboard>=2.9.1->pytorch_lightning) (3.19.4)\n",
            "Requirement already satisfied: absl-py>=0.4 in /usr/local/lib/python3.7/site-packages (from tensorboard>=2.9.1->pytorch_lightning) (1.2.0)\n",
            "Requirement already satisfied: cachetools<6.0,>=2.0.0 in /usr/local/lib/python3.7/site-packages (from google-auth<3,>=1.6.3->tensorboard>=2.9.1->pytorch_lightning) (5.2.0)\n",
            "Requirement already satisfied: six>=1.9.0 in /usr/local/lib/python3.7/site-packages (from google-auth<3,>=1.6.3->tensorboard>=2.9.1->pytorch_lightning) (1.15.0)\n",
            "Requirement already satisfied: rsa<5,>=3.1.4 in /usr/local/lib/python3.7/site-packages (from google-auth<3,>=1.6.3->tensorboard>=2.9.1->pytorch_lightning) (4.9)\n",
            "Requirement already satisfied: pyasn1-modules>=0.2.1 in /usr/local/lib/python3.7/site-packages (from google-auth<3,>=1.6.3->tensorboard>=2.9.1->pytorch_lightning) (0.2.8)\n",
            "Requirement already satisfied: requests-oauthlib>=0.7.0 in /usr/local/lib/python3.7/site-packages (from google-auth-oauthlib<0.5,>=0.4.1->tensorboard>=2.9.1->pytorch_lightning) (1.3.1)\n",
            "Requirement already satisfied: importlib-metadata>=4.4 in /usr/local/lib/python3.7/site-packages (from markdown>=2.6.8->tensorboard>=2.9.1->pytorch_lightning) (4.12.0)\n",
            "Requirement already satisfied: zipp>=0.5 in /usr/local/lib/python3.7/site-packages (from importlib-metadata>=4.4->markdown>=2.6.8->tensorboard>=2.9.1->pytorch_lightning) (3.8.1)\n",
            "Requirement already satisfied: pyasn1<0.5.0,>=0.4.6 in /usr/local/lib/python3.7/site-packages (from pyasn1-modules>=0.2.1->google-auth<3,>=1.6.3->tensorboard>=2.9.1->pytorch_lightning) (0.4.8)\n",
            "Requirement already satisfied: urllib3<1.27,>=1.21.1 in /usr/local/lib/python3.7/site-packages (from requests->fsspec[http]!=2021.06.0,>=2021.05.0->pytorch_lightning) (1.26.11)\n",
            "Requirement already satisfied: idna<3,>=2.5 in /usr/local/lib/python3.7/site-packages (from requests->fsspec[http]!=2021.06.0,>=2021.05.0->pytorch_lightning) (2.10)\n",
            "Requirement already satisfied: chardet<5,>=3.0.2 in /usr/local/lib/python3.7/site-packages (from requests->fsspec[http]!=2021.06.0,>=2021.05.0->pytorch_lightning) (4.0.0)\n",
            "Requirement already satisfied: certifi>=2017.4.17 in /usr/local/lib/python3.7/site-packages (from requests->fsspec[http]!=2021.06.0,>=2021.05.0->pytorch_lightning) (2022.6.15)\n",
            "Requirement already satisfied: oauthlib>=3.0.0 in /usr/local/lib/python3.7/site-packages (from requests-oauthlib>=0.7.0->google-auth-oauthlib<0.5,>=0.4.1->tensorboard>=2.9.1->pytorch_lightning) (3.2.0)\n",
            "Requirement already satisfied: MarkupSafe>=2.1.1 in /usr/local/lib/python3.7/site-packages (from werkzeug>=1.0.1->tensorboard>=2.9.1->pytorch_lightning) (2.1.1)\n",
            "Requirement already satisfied: asynctest==0.13.0 in /usr/local/lib/python3.7/site-packages (from aiohttp->fsspec[http]!=2021.06.0,>=2021.05.0->pytorch_lightning) (0.13.0)\n",
            "Requirement already satisfied: charset-normalizer<3.0,>=2.0 in /usr/local/lib/python3.7/site-packages (from aiohttp->fsspec[http]!=2021.06.0,>=2021.05.0->pytorch_lightning) (2.1.0)\n",
            "Requirement already satisfied: multidict<7.0,>=4.5 in /usr/local/lib/python3.7/site-packages (from aiohttp->fsspec[http]!=2021.06.0,>=2021.05.0->pytorch_lightning) (6.0.2)\n",
            "Requirement already satisfied: async-timeout<5.0,>=4.0.0a3 in /usr/local/lib/python3.7/site-packages (from aiohttp->fsspec[http]!=2021.06.0,>=2021.05.0->pytorch_lightning) (4.0.2)\n",
            "Requirement already satisfied: aiosignal>=1.1.2 in /usr/local/lib/python3.7/site-packages (from aiohttp->fsspec[http]!=2021.06.0,>=2021.05.0->pytorch_lightning) (1.2.0)\n",
            "Requirement already satisfied: frozenlist>=1.1.1 in /usr/local/lib/python3.7/site-packages (from aiohttp->fsspec[http]!=2021.06.0,>=2021.05.0->pytorch_lightning) (1.3.1)\n",
            "Requirement already satisfied: yarl<2.0,>=1.0 in /usr/local/lib/python3.7/site-packages (from aiohttp->fsspec[http]!=2021.06.0,>=2021.05.0->pytorch_lightning) (1.8.1)\n",
            "Requirement already satisfied: attrs>=17.3.0 in /usr/local/lib/python3.7/site-packages (from aiohttp->fsspec[http]!=2021.06.0,>=2021.05.0->pytorch_lightning) (22.1.0)\n",
            "Looking in indexes: https://pypi.org/simple, https://us-python.pkg.dev/colab-wheels/public/simple/\n",
            "Requirement already satisfied: scikit-image in /usr/local/lib/python3.7/site-packages (0.19.3)\n",
            "Requirement already satisfied: tifffile>=2019.7.26 in /usr/local/lib/python3.7/site-packages (from scikit-image) (2021.11.2)\n",
            "Requirement already satisfied: numpy>=1.17.0 in /usr/local/lib/python3.7/site-packages (from scikit-image) (1.20.3)\n",
            "Requirement already satisfied: packaging>=20.0 in /usr/local/lib/python3.7/site-packages (from scikit-image) (21.3)\n",
            "Requirement already satisfied: imageio>=2.4.1 in /usr/local/lib/python3.7/site-packages (from scikit-image) (2.21.1)\n",
            "Requirement already satisfied: scipy>=1.4.1 in /usr/local/lib/python3.7/site-packages (from scikit-image) (1.7.3)\n",
            "Requirement already satisfied: PyWavelets>=1.1.1 in /usr/local/lib/python3.7/site-packages (from scikit-image) (1.3.0)\n",
            "Requirement already satisfied: pillow!=7.1.0,!=7.1.1,!=8.3.0,>=6.1.0 in /usr/local/lib/python3.7/site-packages (from scikit-image) (9.2.0)\n",
            "Requirement already satisfied: networkx>=2.2 in /usr/local/lib/python3.7/site-packages (from scikit-image) (2.6.3)\n",
            "Requirement already satisfied: pyparsing!=3.0.5,>=2.0.2 in /usr/local/lib/python3.7/site-packages (from packaging>=20.0->scikit-image) (3.0.9)\n",
            "Collecting package metadata (current_repodata.json): - \b\b\\ \b\b| \b\b/ \b\b- \b\b\\ \b\b| \b\b/ \b\b- \b\b\\ \b\b| \b\b/ \b\b- \b\b\\ \b\b| \b\b/ \b\b- \b\bdone\n",
            "Solving environment: | \b\bfailed with initial frozen solve. Retrying with flexible solve.\n",
            "Collecting package metadata (repodata.json): - \b\b\\ \b\b| \b\b/ \b\b- \b\b\\ \b\b| \b\b/ \b\b- \b\b\\ \b\b| \b\b/ \b\b- \b\b\\ \b\b| \b\b/ \b\b- \b\b\\ \b\b| \b\b/ \b\b- \b\b\\ \b\b| \b\b/ \b\b- \b\b\\ \b\b| \b\b/ \b\b- \b\b\\ \b\b| \b\b/ \b\b- \b\b\\ \b\b| \b\b/ \b\b- \b\b\\ \b\b| \b\b/ \b\b- \b\b\\ \b\b| \b\b/ \b\b- \b\b\\ \b\b| \b\b/ \b\b- \b\b\\ \b\bdone\n",
            "Solving environment: / \b\b- \b\b\\ \b\b| \b\b/ \b\b- \b\b\\ \b\b| \b\b/ \b\b- \b\b\\ \b\b| \b\b/ \b\b- \b\b\\ \b\b| \b\b/ \b\b- \b\b\\ \b\b| \b\b/ \b\b- \b\b\\ \b\b| \b\b/ \b\b- \b\b\\ \b\b| \b\b/ \b\b- \b\b\\ \b\b| \b\b/ \b\b- \b\b\\ \b\b| \b\b/ \b\b- \b\b\\ \b\b| \b\b/ \b\b- \b\b\\ \b\b| \b\b/ \b\b- \b\b\\ \b\b| \b\b/ \b\b- \b\b\\ \b\b| \b\b/ \b\b- \b\b\\ \b\b| \b\b/ \b\b- \b\b\\ \b\b| \b\b/ \b\b- \b\b\\ \b\b| \b\b/ \b\b- \b\b\\ \b\b| \b\b/ \b\b- \b\b\\ \b\b| \b\b/ \b\b- \b\b\\ \b\b| \b\b/ \b\b- \b\b\\ \b\b| \b\b/ \b\b- \b\b\\ \b\b| \b\b/ \b\b- \b\b\\ \b\b| \b\b/ \b\b- \b\b\\ \b\b| \b\b/ \b\b- \b\b\\ \b\b| \b\b/ \b\b- \b\b\\ \b\b| \b\b/ \b\b- \b\b\\ \b\b| \b\b/ \b\b- \b\b\\ \b\b| \b\b/ \b\b- \b\b\\ \b\b| \b\b/ \b\b- \b\b\\ \b\b| \b\b/ \b\b- \b\b\\ \b\b| \b\b/ \b\b- \b\b\\ \b\b| \b\b/ \b\b- \b\b\\ \b\b| \b\b/ \b\b- \b\b\\ \b\b| \b\b/ \b\b- \b\b\\ \b\b| \b\b/ \b\b- \b\b\\ \b\b| \b\b/ \b\b- \b\b\\ \b\b| \b\b/ \b\b- \b\b\\ \b\b| \b\b/ \b\b- \b\b\\ \b\b| \b\b/ \b\b- \b\b\\ \b\b| \b\b/ \b\b- \b\b\\ \b\b| \b\b/ \b\b- \b\b\\ \b\b| \b\b/ \b\b- \b\b\\ \b\b| \b\b/ \b\b- \b\b\\ \b\b| \b\b/ \b\b- \b\b\\ \b\b| \b\b/ \b\b- \b\b\\ \b\b| \b\b/ \b\b- \b\b\\ \b\b| \b\b/ \b\b- \b\b\\ \b\b| \b\b/ \b\b- \b\b\\ \b\b| \b\b/ \b\b- \b\b\\ \b\b| \b\b/ \b\b- \b\b\\ \b\b| \b\b/ \b\b- \b\b\\ \b\b| \b\b/ \b\b- \b\b\\ \b\b| \b\b/ \b\b- \b\b\\ \b\b| \b\b/ \b\b- \b\b\\ \b\b| \b\b/ \b\b- \b\b\\ \b\b| \b\b/ \b\b- \b\b\\ \b\b| \b\b/ \b\b- \b\b\\ \b\b| \b\b/ \b\b- \b\b\\ \b\b| \b\b/ \b\b- \b\b\\ \b\b| \b\b/ \b\b- \b\b\\ \b\b| \b\b/ \b\b- \b\b\\ \b\b| \b\b/ \b\b- \b\b\\ \b\b| \b\b/ \b\b- \b\b\\ \b\b| \b\b/ \b\b- \b\b\\ \b\b| \b\b/ \b\b- \b\b\\ \b\b| \b\b/ \b\b- \b\b\\ \b\b| \b\b/ \b\b- \b\b\\ \b\b| \b\b/ \b\b- \b\b\\ \b\b| \b\b/ \b\b- \b\b\\ \b\b| \b\b/ \b\b- \b\b\\ \b\b| \b\b/ \b\b- \b\b\\ \b\b| \b\b/ \b\b- \b\b\\ \b\b| \b\b/ \b\b- \b\b\\ \b\b| \b\b/ \b\b- \b\b\\ \b\b| \b\b/ \b\b- \b\b\\ \b\b| \b\b/ \b\b- \b\b\\ \b\b| \b\b/ \b\b- \b\b\\ \b\b| \b\b/ \b\b- \b\b\\ \b\b| \b\b/ \b\b- \b\b\\ \b\b| \b\b/ \b\b- \b\b\\ \b\b| \b\b/ \b\b- \b\b\\ \b\b| \b\bfailed with initial frozen solve. Retrying with flexible solve.\n",
            "Solving environment: - \b\b\\ \b\b| \b\b/ \b\b- \b\b\\ \b\b| \b\b/ \b\b- \b\b\\ \b\b| \b\b/ \b\b- \b\b\\ \b\b| \b\b/ \b\b- \b\b\\ \b\b| \b\b/ \b\b- \b\b\\ \b\b| \b\b/ \b\b- \b\b\\ \b\b| \b\b/ \b\b- \b\b\\ \b\b| \b\b/ \b\b- \b\b\\ \b\b| \b\b/ \b\b- \b\b\\ \b\b| \b\b/ \b\b- \b\b\\ \b\b| \b\b/ \b\b- \b\b\\ \b\b| \b\b/ \b\b- \b\b\\ \b\b| \b\b/ \b\b- \b\b\\ \b\b| \b\b/ \b\b- \b\b\\ \b\b| \b\b/ \b\b- \b\b\\ \b\b| \b\b/ \b\b- \b\b\\ \b\b| \b\b/ \b\b- \b\b\\ \b\b| \b\b/ \b\b- \b\b\\ \b\b| \b\b/ \b\b- \b\b\\ \b\b| \b\b/ \b\b- \b\b\\ \b\b| \b\b/ \b\b- \b\b\\ \b\b| \b\b/ \b\b- \b\b\\ \b\b| \b\b/ \b\b- \b\b\\ \b\b| \b\b/ \b\b- \b\b\\ \b\b| \b\b/ \b\b- \b\b\\ \b\b| \b\b/ \b\b- \b\b\\ \b\b| \b\b/ \b\b- \b\b\\ \b\b| \b\b/ \b\b- \b\b\\ \b\b| \b\b/ \b\b- \b\b\\ \b\b| \b\b/ \b\b- \b\b\\ \b\b| \b\b/ \b\b- \b\b\\ \b\b| \b\b/ \b\b- \b\b\\ \b\b| \b\b/ \b\b- \b\b\\ \b\b| \b\b/ \b\b- \b\b\\ \b\b| \b\b/ \b\b- \b\b\\ \b\b| \b\b/ \b\b- \b\b\\ \b\b| \b\b/ \b\b- \b\b\\ \b\b| \b\b/ \b\b- \b\b\\ \b\b| \b\b/ \b\b- \b\b\\ \b\b| \b\b/ \b\b- \b\b\\ \b\b| \b\b/ \b\b- \b\b\\ \b\b| \b\b/ \b\b- \b\b\\ \b\b| \b\b/ \b\b- \b\b\\ \b\b| \b\b/ \b\b- \b\b\\ \b\b| \b\b/ \b\b- \b\b\\ \b\b| \b\b/ \b\b- \b\b\\ \b\b| \b\b/ \b\b- \b\b\\ \b\b| \b\b/ \b\b- \b\b\\ \b\b| \b\b/ \b\b- \b\b\\ \b\b| \b\b/ \b\b- \b\b\\ \b\b| \b\b/ \b\b- \b\b\\ \b\b| \b\b/ \b\b- \b\b\\ \b\b| \b\b/ \b\b- \b\b\\ \b\b| \b\b/ \b\b- \b\b\\ \b\b| \b\b/ \b\b- \b\b\\ \b\b| \b\b/ \b\b- \b\b\\ \b\b| \b\b/ \b\b- \b\b\\ \b\b| \b\b/ \b\b- \b\b\\ \b\b| \b\b/ \b\b- \b\b\\ \b\b| \b\b/ \b\b- \b\b\\ \b\b| \b\b/ \b\b- \b\b\\ \b\b| \b\b/ \b\b- \b\b\\ \b\b| \b\b/ \b\b- \b\b\\ \b\b| \b\b/ \b\b- \b\b\\ \b\b| \b\b/ \b\b- \b\b\\ \b\b| \b\b/ \b\b- \b\b\\ \b\b| \b\b/ \b\b- \b\b\\ \b\b| \b\b/ \b\b- \b\b\\ \b\b| \b\b/ \b\b- \b\b\\ \b\b| \b\b/ \b\b- \b\b\\ \b\b| \b\b/ \b\b- \b\b\\ \b\b| \b\b/ \b\b- \b\b\\ \b\b| \b\b/ \b\b- \b\b\\ \b\b| \b\b/ \b\b- \b\b\\ \b\b| \b\b/ \b\b- \b\b\\ \b\b| \b\b/ \b\b- \b\b\\ \b\b| \b\b/ \b\b- \b\b\\ \b\b| \b\b/ \b\b- \b\b\\ \b\b| \b\b/ \b\b- \b\b\\ \b\b| \b\b/ \b\b- \b\b\\ \b\b| \b\b/ \b\b- \b\b\\ \b\b| \b\b/ \b\b- \b\b\\ \b\b| \b\b/ \b\b- \b\b\\ \b\b| \b\b/ \b\b- \b\b\\ \b\b| \b\b/ \b\b- \b\b\\ \b\b| \b\b/ \b\b- \b\b\\ \b\b| \b\b/ \b\b- \b\b\\ \b\b| \b\b/ \b\b- \b\b\\ \b\b| \b\b/ \b\b- \b\b\\ \b\b| \b\b/ \b\b- \b\b\\ \b\b| \b\b/ \b\b- \b\b\\ \b\b| \b\b/ \b\b- \b\b\\ \b\b| \b\b/ \b\b- \b\b\\ \b\b| \b\b/ \b\b- \b\b\\ \b\b| \b\b/ \b\b- \b\b\\ \b\b| \b\b/ \b\b- \b\b\\ \b\b| \b\b/ \b\b- \b\b\\ \b\b| \b\b/ \b\b- \b\b\\ \b\b| \b\b/ \b\b- \b\b\\ \b\b| \b\b/ \b\b- \b\b\\ \b\b| \b\b/ \b\b- \b\b\\ \b\b| \b\b/ \b\b- \b\b\\ \b\b| \b\b/ \b\b- \b\b\\ \b\b| \b\b/ \b\b- \b\b\\ \b\b| \b\b/ \b\b- \b\b\\ \b\b| \b\b/ \b\b- \b\b\\ \b\b| \b\b/ \b\b- \b\b\\ \b\b| \b\b/ \b\b- \b\b\\ \b\b| \b\b/ \b\b- \b\b\\ \b\b| \b\b/ \b\b- \b\b\\ \b\b| \b\b/ \b\b- \b\b\\ \b\b| \b\b/ \b\b- \b\b\\ \b\b| \b\b/ \b\b- \b\b\\ \b\b| \b\b/ \b\b- \b\b\\ \b\b| \b\b/ \b\b- \b\b\\ \b\b| \b\b/ \b\b- \b\b\\ \b\b| \b\b/ \b\b- \b\b\\ \b\b| \b\b/ \b\b- \b\b\\ \b\b| \b\b/ \b\b- \b\b\\ \b\b| \b\b/ \b\b- \b\b\\ \b\b| \b\b/ \b\b- \b\b\\ \b\b| \b\b/ \b\b- \b\b\\ \b\b| \b\b/ \b\b- \b\b\\ \b\b| \b\b/ \b\b- \b\b\\ \b\b| \b\b/ \b\b- \b\b\\ \b\b| \b\b/ \b\b- \b\b\\ \b\b| \b\b/ \b\b- \b\b\\ \b\b| \b\b/ \b\b- \b\b\\ \b\b| \b\b/ \b\b- \b\b\\ \b\b| \b\b/ \b\b- \b\b\\ \b\b| \b\b/ \b\b- \b\b\\ \b\b| \b\b/ \b\b- \b\b\\ \b\b| \b\b/ \b\b- \b\b\\ \b\b| \b\b/ \b\b- \b\b\\ \b\b| \b\b/ \b\b- \b\b\\ \b\b| \b\b/ \b\b- \b\b\\ \b\b| \b\b/ \b\b- \b\b\\ \b\b| \b\b/ \b\b- \b\b\\ \b\b| \b\b/ \b\b- \b\b\\ \b\b| \b\b/ \b\b- \b\b\\ \b\b| \b\b/ \b\b- \b\b\\ \b\b| \b\b/ \b\b- \b\b\\ \b\b| \b\b/ \b\b- \b\b\\ \b\b| \b\b/ \b\b- \b\b\\ \b\b| \b\b/ \b\b- \b\b\\ \b\b| \b\b/ \b\b- \b\b\\ \b\b| \b\b/ \b\b- \b\b\\ \b\b| \b\b/ \b\b- \b\b\\ \b\b| \b\b/ \b\b- \b\b\\ \b\b| \b\b/ \b\b- \b\b\\ \b\b| \b\b/ \b\b- \b\b\\ \b\b| \b\b/ \b\b- \b\b\\ \b\b| \b\b/ \b\b- \b\b\\ \b\b| \b\b/ \b\b- \b\b\\ \b\b| \b\b/ \b\b- \b\b\\ \b\b| \b\b/ \b\b- \b\b\\ \b\b| \b\b/ \b\b- \b\b\\ \b\b| \b\b/ \b\b- \b\b\\ \b\b| \b\b/ \b\b- \b\b\\ \b\b| \b\b/ \b\b- \b\b\\ \b\b| \b\b/ \b\b- \b\b\\ \b\b| \b\b/ \b\b- \b\b\\ \b\b| \b\b/ \b\b- \b\b\\ \b\b| \b\b/ \b\b- \b\b\\ \b\b| \b\b/ \b\b- \b\b\\ \b\b| \b\b/ \b\b- \b\b\\ \b\b| \b\b/ \b\b- \b\b\\ \b\b| \b\b/ \b\b- \b\b\\ \b\b| \b\b/ \b\b- \b\b\\ \b\b| \b\b/ \b\b- \b\b\\ \b\b| \b\b/ \b\b- \b\b\\ \b\b| \b\b/ \b\b- \b\b\\ \b\b| \b\b/ \b\b- \b\b\\ \b\b| \b\b/ \b\b- \b\b\\ \b\b| \b\b/ \b\b- \b\b\\ \b\b| \b\b/ \b\b- \b\b\\ \b\b| \b\b/ \b\b- \b\b\\ \b\b| \b\b/ \b\b- \b\b\\ \b\b| \b\b/ \b\b- \b\b\\ \b\b| \b\b/ \b\b- \b\b\\ \b\b| \b\b/ \b\b- \b\b\\ \b\b| \b\b/ \b\b- \b\b\\ \b\b| \b\b/ \b\b- \b\b\\ \b\b| \b\b/ \b\b- \b\b\\ \b\b| \b\b/ \b\b- \b\b\\ \b\b| \b\b/ \b\b- \b\b\\ \b\b| \b\b/ \b\b- \b\b\\ \b\b| \b\b/ \b\b- \b\b\\ \b\b| \b\b/ \b\b- \b\b\\ \b\b| \b\b/ \b\b- \b\b\\ \b\b| \b\b/ \b\b- \b\b\\ \b\b| \b\b/ \b\b- \b\b\\ \b\b| \b\b/ \b\b- \b\b\\ \b\b| \b\b/ \b\b- \b\b\\ \b\b| \b\b/ \b\b- \b\b\\ \b\b| \b\b/ \b\b- \b\b\\ \b\b| \b\b/ \b\b- \b\b\\ \b\b| \b\b/ \b\b- \b\b\\ \b\b| \b\b/ \b\b- \b\b\\ \b\b| \b\b/ \b\b- \b\b\\ \b\b| \b\b/ \b\b- \b\b\\ \b\b| \b\b/ \b\b- \b\b\\ \b\b| \b\b/ \b\b- \b\b\\ \b\b| \b\b/ \b\b- \b\b\\ \b\b| \b\b/ \b\b- \b\b\\ \b\b| \b\b/ \b\b- \b\b\\ \b\b| \b\b/ \b\b- \b\b\\ \b\b| \b\b/ \b\b- \b\b\\ \b\b| \b\b/ \b\b- \b\b\\ \b\b| \b\b/ \b\b- \b\b\\ \b\b| \b\b/ \b\b- \b\b\\ \b\b| \b\b/ \b\b- \b\b\\ \b\b| \b\b/ \b\b- \b\b\\ \b\b| \b\b/ \b\b- \b\b\\ \b\b| \b\b/ \b\b- \b\b\\ \b\b| \b\b/ \b\b- \b\b\\ \b\b| \b\b/ \b\b- \b\b\\ \b\b| \b\b/ \b\b- \b\b\\ \b\b| \b\b/ \b\b- \b\b\\ \b\b| \b\b/ \b\b- \b\b\\ \b\b| \b\b/ \b\b- \b\b\\ \b\b| \b\b/ \b\b- \b\b\\ \b\b| \b\b/ \b\b- \b\b\\ \b\b| \b\b/ \b\b- \b\b\\ \b\b| \b\b/ \b\b- \b\b\\ \b\b| \b\b/ \b\b- \b\b\\ \b\b| \b\b/ \b\b- \b\b\\ \b\b| \b\b/ \b\b- \b\b\\ \b\b| \b\b/ \b\b- \b\b\\ \b\b| \b\b/ \b\b- \b\b\\ \b\b| \b\b/ \b\b- \b\b\\ \b\b| \b\b/ \b\b- \b\b\\ \b\b| \b\b/ \b\b- \b\b\\ \b\b| \b\b/ \b\b- \b\b\\ \b\b| \b\b/ \b\b- \b\b\\ \b\b| \b\b/ \b\b- \b\b\\ \b\b| \b\b/ \b\b- \b\b\\ \b\b| \b\b/ \b\b- \b\b\\ \b\b| \b\b/ \b\b- \b\b\\ \b\b| \b\b/ \b\b- \b\b\\ \b\b| \b\b/ \b\b- \b\b\\ \b\b| \b\b/ \b\b- \b\b\\ \b\b| \b\b/ \b\b- \b\b\\ \b\b| \b\b/ \b\b- \b\b\\ \b\b| \b\b/ \b\b- \b\b\\ \b\b| \b\b/ \b\b- \b\b\\ \b\b| \b\b/ \b\b- \b\b\\ \b\b| \b\b/ \b\b- \b\b\\ \b\b| \b\b/ \b\b- \b\b\\ \b\b| \b\b/ \b\b- \b\b\\ \b\b| \b\b/ \b\b- \b\b\\ \b\b| \b\b/ \b\b- \b\b\\ \b\b| \b\b/ \b\b- \b\b\\ \b\b| \b\b/ \b\b- \b\b\\ \b\b| \b\b/ \b\b- \b\b\\ \b\b| \b\b/ \b\b- \b\b\\ \b\b| \b\b/ \b\b- \b\b\\ \b\b| \b\b/ \b\b- \b\b\\ \b\b| \b\b/ \b\b- \b\b\\ \b\b| \b\b/ \b\b- \b\b\\ \b\b| \b\b/ \b\b- \b\b\\ \b\b| \b\b/ \b\b- \b\b\\ \b\b| \b\b/ \b\b- \b\b\\ \b\b| \b\b/ \b\b- \b\b\\ \b\b| \b\b/ \b\b- \b\b\\ \b\b| \b\b/ \b\b- \b\b\\ \b\b| \b\b/ \b\b- \b\b\\ \b\b| \b\b/ \b\b- \b\b\\ \b\b| \b\b/ \b\b- \b\b\\ \b\b| \b\b/ \b\b- \b\b\\ \b\b| \b\b/ \b\b- \b\b\\ \b\b| \b\b/ \b\b- \b\b\\ \b\b| \b\b/ \b\b- \b\b\\ \b\b| \b\b/ \b\b- \b\b\\ \b\b| \b\b/ \b\b- \b\b\\ \b\b| \b\b/ \b\b- \b\b\\ \b\b| \b\b/ \b\b- \b\b\\ \b\b| \b\b/ \b\b- \b\b\\ \b\b| \b\b/ \b\b- \b\b\\ \b\b| \b\b/ \b\b- \b\b\\ \b\b| \b\b/ \b\b- \b\b\\ \b\b| \b\b/ \b\b- \b\b\\ \b\b| \b\b/ \b\b- \b\b\\ \b\b| \b\b/ \b\b- \b\b\\ \b\b| \b\b/ \b\b- \b\b\\ \b\b| \b\b/ \b\b- \b\b\\ \b\b| \b\b/ \b\b- \b\b\\ \b\b| \b\b/ \b\b- \b\b\\ \b\b| \b\b/ \b\b- \b\b\\ \b\b| \b\b/ \b\b- \b\b\\ \b\b| \b\b/ \b\b- \b\b\\ \b\b| \b\b/ \b\b- \b\b\\ \b\b| \b\b/ \b\b- \b\b\\ \b\b| \b\b/ \b\b- \b\b\\ \b\b| \b\b/ \b\b- \b\b\\ \b\b| \b\b/ \b\b- \b\b\\ \b\b| \b\b/ \b\b- \b\b\\ \b\b| \b\b/ \b\b- \b\b\\ \b\b| \b\b/ \b\b- \b\b\\ \b\b| \b\b/ \b\b- \b\b\\ \b\b| \b\b/ \b\b- \b\b\\ \b\b| \b\b/ \b\b- \b\b\\ \b\b| \b\b/ \b\b- \b\b\\ \b\b| \b\bdone\n",
            "\n",
            "## Package Plan ##\n",
            "\n",
            "  environment location: /usr/local\n",
            "\n",
            "  added / updated specs:\n",
            "    - pillow==6.1\n",
            "\n",
            "\n",
            "The following packages will be downloaded:\n",
            "\n",
            "    package                    |            build\n",
            "    ---------------------------|-----------------\n",
            "    blas-2.116                 |         openblas          13 KB  conda-forge\n",
            "    blas-devel-3.9.0           |16_linux64_openblas          12 KB  conda-forge\n",
            "    c-ares-1.18.1              |       h7f98852_0         113 KB  conda-forge\n",
            "    cffi-1.15.1                |   py37h43b0acd_0         227 KB  conda-forge\n",
            "    cudnn-8.4.1.50             |       hed8a83a_0       618.4 MB  conda-forge\n",
            "    keyutils-1.6.1             |       h166bdaf_0         115 KB  conda-forge\n",
            "    krb5-1.19.3                |       h3790be6_0         1.4 MB  conda-forge\n",
            "    lerc-3.0                   |       h9c3ff4c_0         216 KB  conda-forge\n",
            "    libarchive-3.5.2           |       hccf745f_1         1.6 MB  conda-forge\n",
            "    libblas-3.9.0              |16_linux64_openblas          13 KB  conda-forge\n",
            "    libcblas-3.9.0             |16_linux64_openblas          13 KB  conda-forge\n",
            "    libcurl-7.83.1             |       h7bff187_0         342 KB  conda-forge\n",
            "    libdeflate-1.10            |       h7f98852_0          77 KB  conda-forge\n",
            "    libffi-3.4.2               |       h7f98852_5          57 KB  conda-forge\n",
            "    liblapack-3.9.0            |16_linux64_openblas          13 KB  conda-forge\n",
            "    liblapacke-3.9.0           |16_linux64_openblas          13 KB  conda-forge\n",
            "    libmamba-0.25.0            |       hd8a31e3_1         1.5 MB  conda-forge\n",
            "    libmambapy-0.25.0          |   py37h1ee4b26_1         287 KB  conda-forge\n",
            "    libnghttp2-1.47.0          |       hdcd2b5c_1         808 KB  conda-forge\n",
            "    libnsl-2.0.0               |       h7f98852_0          31 KB  conda-forge\n",
            "    libopenblas-0.3.21         |pthreads_h78a6416_1        10.1 MB  conda-forge\n",
            "    libprotobuf-3.20.1         |       h6239696_1         2.6 MB  conda-forge\n",
            "    libsolv-0.7.22             |       h6239696_0         443 KB  conda-forge\n",
            "    libssh2-1.10.0             |       haa6b8db_3         234 KB  conda-forge\n",
            "    libstdcxx-ng-12.1.0        |      ha89aaad_16         4.3 MB  conda-forge\n",
            "    libtiff-4.3.0              |       h0fcbabc_4         635 KB  conda-forge\n",
            "    libwebp-base-1.2.4         |       h166bdaf_0         404 KB  conda-forge\n",
            "    libxml2-2.9.12             |       h72842e0_0         772 KB  conda-forge\n",
            "    magma-2.5.4                |       ha9b7cf9_2       104.7 MB  conda-forge\n",
            "    mamba-0.25.0               |   py37h6dacc13_1          45 KB  conda-forge\n",
            "    mkl-2022.1.0               |     h84fe81f_915       199.6 MB  conda-forge\n",
            "    nccl-2.14.3.1              |       h12f7317_0       169.9 MB  conda-forge\n",
            "    ninja-1.11.0               |       h924138e_0         2.8 MB  conda-forge\n",
            "    openblas-0.3.21            |pthreads_h320a7e8_1        10.8 MB  conda-forge\n",
            "    pillow-6.1.0               |   py37h6b7be26_1         630 KB  conda-forge\n",
            "    pybind11-abi-4             |       hd8ed1ab_3          10 KB  conda-forge\n",
            "    python-3.7.12              |hb7a2778_100_cpython        57.3 MB  conda-forge\n",
            "    pytorch-1.12.1             |cuda111py37hdb2541a_200       631.1 MB  conda-forge\n",
            "    readline-8.1               |       h46c0cb4_0         295 KB  conda-forge\n",
            "    sleef-3.5.1                |       h9b69904_2         1.5 MB  conda-forge\n",
            "    sqlite-3.37.0              |       h9cd32fc_0         1.5 MB  conda-forge\n",
            "    tbb-2021.5.0               |       h924138e_1         1.9 MB  conda-forge\n",
            "    tk-8.6.12                  |       h27826a3_0         3.3 MB  conda-forge\n",
            "    yaml-cpp-0.7.0             |       h27087fc_1         214 KB  conda-forge\n",
            "    zstd-1.5.2                 |       h6239696_4         448 KB  conda-forge\n",
            "    ------------------------------------------------------------\n",
            "                                           Total:        1.79 GB\n",
            "\n",
            "The following NEW packages will be INSTALLED:\n",
            "\n",
            "  blas-devel         conda-forge/linux-64::blas-devel-3.9.0-16_linux64_openblas\n",
            "  cudnn              conda-forge/linux-64::cudnn-8.4.1.50-hed8a83a_0\n",
            "  keyutils           conda-forge/linux-64::keyutils-1.6.1-h166bdaf_0\n",
            "  lerc               conda-forge/linux-64::lerc-3.0-h9c3ff4c_0\n",
            "  libdeflate         conda-forge/linux-64::libdeflate-1.10-h7f98852_0\n",
            "  libmamba           conda-forge/linux-64::libmamba-0.25.0-hd8a31e3_1\n",
            "  libmambapy         conda-forge/linux-64::libmambapy-0.25.0-py37h1ee4b26_1\n",
            "  libnsl             conda-forge/linux-64::libnsl-2.0.0-h7f98852_0\n",
            "  libopenblas        conda-forge/linux-64::libopenblas-0.3.21-pthreads_h78a6416_1\n",
            "  libprotobuf        conda-forge/linux-64::libprotobuf-3.20.1-h6239696_1\n",
            "  libwebp-base       conda-forge/linux-64::libwebp-base-1.2.4-h166bdaf_0\n",
            "  magma              conda-forge/linux-64::magma-2.5.4-ha9b7cf9_2\n",
            "  nccl               conda-forge/linux-64::nccl-2.14.3.1-h12f7317_0\n",
            "  ninja              conda-forge/linux-64::ninja-1.11.0-h924138e_0\n",
            "  openblas           conda-forge/linux-64::openblas-0.3.21-pthreads_h320a7e8_1\n",
            "  pybind11-abi       conda-forge/noarch::pybind11-abi-4-hd8ed1ab_3\n",
            "  sleef              conda-forge/linux-64::sleef-3.5.1-h9b69904_2\n",
            "  tbb                conda-forge/linux-64::tbb-2021.5.0-h924138e_1\n",
            "  yaml-cpp           conda-forge/linux-64::yaml-cpp-0.7.0-h27087fc_1\n",
            "\n",
            "The following packages will be UPDATED:\n",
            "\n",
            "  blas                                            2.106-mkl --> 2.116-openblas\n",
            "  c-ares                                  1.17.1-h7f98852_1 --> 1.18.1-h7f98852_0\n",
            "  cffi                                1.14.5-py37hc58025e_0 --> 1.15.1-py37h43b0acd_0\n",
            "  krb5                                    1.17.2-h926e7f8_0 --> 1.19.3-h3790be6_0\n",
            "  libarchive                               3.5.1-h3f442fb_1 --> 3.5.2-hccf745f_1\n",
            "  libblas                                       3.9.0-6_mkl --> 3.9.0-16_linux64_openblas\n",
            "  libcblas                                      3.9.0-6_mkl --> 3.9.0-16_linux64_openblas\n",
            "  libcurl                                 7.75.0-hc4aaa36_0 --> 7.83.1-h7bff187_0\n",
            "  libffi                                     3.3-h58526e2_2 --> 3.4.2-h7f98852_5\n",
            "  liblapack                                     3.9.0-6_mkl --> 3.9.0-16_linux64_openblas\n",
            "  liblapacke                                    3.9.0-6_mkl --> 3.9.0-16_linux64_openblas\n",
            "  libnghttp2                              1.43.0-h812cca2_0 --> 1.47.0-hdcd2b5c_1\n",
            "  libsolv                                 0.7.17-h780b84a_0 --> 0.7.22-h6239696_0\n",
            "  libssh2                                  1.9.0-ha56f1ee_6 --> 1.10.0-haa6b8db_3\n",
            "  libstdcxx-ng                            9.3.0-h6de172a_18 --> 12.1.0-ha89aaad_16\n",
            "  libtiff                              4.0.10-hc3755c2_1005 --> 4.3.0-h0fcbabc_4\n",
            "  libxml2                                 2.9.10-h72842e0_3 --> 2.9.12-h72842e0_0\n",
            "  mamba                                0.8.0-py37h7f483ca_0 --> 0.25.0-py37h6dacc13_1\n",
            "  mkl                                   2020.4-h726a3e6_304 --> 2022.1.0-h84fe81f_915\n",
            "  python                        3.7.10-hffdb5ce_100_cpython --> 3.7.12-hb7a2778_100_cpython\n",
            "  pytorch               pytorch::pytorch-1.12.1-py3.7_cpu_0 --> conda-forge::pytorch-1.12.1-cuda111py37hdb2541a_200\n",
            "  readline                                   8.0-he28a2e2_2 --> 8.1-h46c0cb4_0\n",
            "  sqlite                                  3.34.0-h74cdb3f_0 --> 3.37.0-h9cd32fc_0\n",
            "  tk                                      8.6.10-h21135ba_1 --> 8.6.12-h27826a3_0\n",
            "  zstd                                     1.4.9-ha95c52a_0 --> 1.5.2-h6239696_4\n",
            "\n",
            "The following packages will be DOWNGRADED:\n",
            "\n",
            "  pillow                               6.2.1-py37h6b7be26_0 --> 6.1.0-py37h6b7be26_1\n",
            "\n",
            "\n",
            "\n",
            "Downloading and Extracting Packages\n",
            "libblas-3.9.0        | 13 KB     | : 100% 1.0/1 [00:00<00:00,  9.11it/s]\n",
            "zstd-1.5.2           | 448 KB    | : 100% 1.0/1 [00:00<00:00,  7.23it/s]\n",
            "libxml2-2.9.12       | 772 KB    | : 100% 1.0/1 [00:00<00:00,  6.53it/s]\n",
            "pillow-6.1.0         | 630 KB    | : 100% 1.0/1 [00:00<00:00,  4.55it/s]\n",
            "libarchive-3.5.2     | 1.6 MB    | : 100% 1.0/1 [00:00<00:00,  3.75it/s]\n",
            "libopenblas-0.3.21   | 10.1 MB   | : 100% 1.0/1 [00:01<00:00,  1.59s/it]               \n",
            "libstdcxx-ng-12.1.0  | 4.3 MB    | : 100% 1.0/1 [00:00<00:00,  1.61it/s]\n",
            "ninja-1.11.0         | 2.8 MB    | : 100% 1.0/1 [00:00<00:00,  2.29it/s]\n",
            "libmambapy-0.25.0    | 287 KB    | : 100% 1.0/1 [00:00<00:00, 11.71it/s]\n",
            "nccl-2.14.3.1        | 169.9 MB  | : 100% 1.0/1 [00:21<00:00, 21.83s/it] \n",
            "libnsl-2.0.0         | 31 KB     | : 100% 1.0/1 [00:00<00:00, 23.43it/s]\n",
            "libtiff-4.3.0        | 635 KB    | : 100% 1.0/1 [00:00<00:00,  7.45it/s]\n",
            "mamba-0.25.0         | 45 KB     | : 100% 1.0/1 [00:00<00:00, 15.51it/s]\n",
            "sleef-3.5.1          | 1.5 MB    | : 100% 1.0/1 [00:00<00:00,  3.35it/s]\n",
            "magma-2.5.4          | 104.7 MB  | : 100% 1.0/1 [00:13<00:00, 13.04s/it]               \n",
            "pytorch-1.12.1       | 631.1 MB  | : 100% 0.9993226900045213/1 [00:11<00:00, 110.02s/it]"
          ]
        }
      ],
      "source": [
        "!conda install pytorch torchvision -c pytorch -y\n",
        "!pip install transformers==4.19.2\n",
        "!pip install -e .\n",
        "!conda install omegaconf\n",
        "!pip install omegaconf\n",
        "!pip install einops\n",
        "!pip install pytorch_lightning\n",
        "#!pip install git+https://github.com/Compvis/latent-diffusion.git\n",
        "#!conda install pytorch==1.9.0 torchvision==0.10.1 -c pytorch -c conda-forge\n",
        "#!pip install ldm\n",
        "#!pip install git+https://github.com/CompVis/latent-diffusion/tree/main/models/ldm.git\n",
        "#!pip install dlib\n",
        "#!pip install pillow==4.0.0\n",
        "!pip install scikit-image\n",
        "!conda install Pillow==6.1 #USE THIS WITH COLAB\n",
        "!pip install opencv-python\n",
        "!pip install ai-tools\n",
        "!pip install cognitive-face\n",
        "!pip install zprint\n",
        "#!pip install setuptools==59.5.0\n",
        "!pip install taming-transformers\n",
        "!pip install git+https://github.com/openai/CLIP.git\n",
        "!pip install kornia"
      ]
    },
    {
      "cell_type": "markdown",
      "metadata": {
        "id": "9w456ug2kDO5",
        "jp-MarkdownHeadingCollapsed": true,
        "tags": []
      },
      "source": [
        "# MUST DO\n",
        "\n",
        "REPLACE quantize.py in /usr/local/lib/python3.7/site-packages/taming/modules/vqvae/quantize.py \n",
        "WITH\n",
        "\n",
        "/stable-diffusion/quantize.py\n",
        "\n",
        "rename the new checkpoint to model.ckpt if needed (should be in models/ldm/stable-diffusion-v1/)"
      ]
    },
    {
      "cell_type": "markdown",
      "metadata": {
        "id": "wJScwX1UAEng",
        "jp-MarkdownHeadingCollapsed": true,
        "tags": []
      },
      "source": [
        "# DEBUG SHIT IGNORE THIS"
      ]
    },
    {
      "cell_type": "code",
      "execution_count": null,
      "metadata": {
        "id": "wq3_Mr_sJGid"
      },
      "outputs": [],
      "source": [
        "!mkdir -p models/ldm/stable-diffusion-v1/\n",
        "\n",
        "%cd models/ldm/stable-diffusion-v1/\n",
        "\n",
        "!ln -s /content/drive/My Drive/stable-diffusion-v-1-3/sd-v1-3-full-ema.ckpt /content/drive/My\\ Drive/Stable\\ Run/stable-diffusion/models/ldm/stable-diffusion-v1/\n",
        "\n",
        "OUTDATED:\n",
        "\n",
        "REPLACE ldm.py in usr/local/lib/python3.7/site-packages/ldm.py WITH the one in /content/drive/My Drive/Stable\\ Run/ldm.py\n",
        "\n",
        "REPLACE microsoft_demo.py in /usr/local/lib/python3.7/site-packages/ai_tools/microsoft_demo.py WITH the one in /content/drive/My Drive/Stable\\ Run/microsoft_demo.py"
      ]
    },
    {
      "cell_type": "code",
      "execution_count": null,
      "metadata": {
        "id": "CGxaCFQThjco"
      },
      "outputs": [],
      "source": [
        "!pip freeze"
      ]
    },
    {
      "cell_type": "code",
      "execution_count": 15,
      "metadata": {
        "colab": {
          "base_uri": "https://localhost:8080/"
        },
        "id": "c5g2z9xDZin9",
        "outputId": "73620e5a-62ac-405e-8977-c823188e4132"
      },
      "outputs": [
        {
          "output_type": "stream",
          "name": "stdout",
          "text": [
            "Fri Aug 19 06:52:36 2022       \n",
            "+-----------------------------------------------------------------------------+\n",
            "| NVIDIA-SMI 460.32.03    Driver Version: 460.32.03    CUDA Version: 11.2     |\n",
            "|-------------------------------+----------------------+----------------------+\n",
            "| GPU  Name        Persistence-M| Bus-Id        Disp.A | Volatile Uncorr. ECC |\n",
            "| Fan  Temp  Perf  Pwr:Usage/Cap|         Memory-Usage | GPU-Util  Compute M. |\n",
            "|                               |                      |               MIG M. |\n",
            "|===============================+======================+======================|\n",
            "|   0  Tesla P100-PCIE...  Off  | 00000000:00:04.0 Off |                    0 |\n",
            "| N/A   35C    P0    26W / 250W |      0MiB / 16280MiB |      0%      Default |\n",
            "|                               |                      |                  N/A |\n",
            "+-------------------------------+----------------------+----------------------+\n",
            "                                                                               \n",
            "+-----------------------------------------------------------------------------+\n",
            "| Processes:                                                                  |\n",
            "|  GPU   GI   CI        PID   Type   Process name                  GPU Memory |\n",
            "|        ID   ID                                                   Usage      |\n",
            "|=============================================================================|\n",
            "|  No running processes found                                                 |\n",
            "+-----------------------------------------------------------------------------+\n"
          ]
        }
      ],
      "source": [
        "!nvidia-smi"
      ]
    },
    {
      "cell_type": "code",
      "execution_count": null,
      "metadata": {
        "id": "biug_Qh4PC37"
      },
      "outputs": [],
      "source": [
        "#Out of memory? try this:\n",
        "\n",
        "#import torch\n",
        "#torch.cuda.empty_cache()\n",
        "\n",
        "#taskkill /F /PID <your PID here>\n",
        "\n",
        "#CUDA torch not enabled? try this:\n",
        "!pip uninstall torch\n",
        "!pip install torch --pre --extra-index-url https://download.pytorch.org/whl/nightly/cu116"
      ]
    },
    {
      "cell_type": "markdown",
      "metadata": {
        "id": "CJvxfonj0yZG",
        "tags": []
      },
      "source": [
        "# *For k-diffusion*\n",
        "\n",
        "check this to make sure you install requirements appropriate for jupyter or colab."
      ]
    },
    {
      "cell_type": "code",
      "execution_count": 10,
      "metadata": {
        "colab": {
          "base_uri": "https://localhost:8080/"
        },
        "id": "dL2D5mld03yI",
        "outputId": "c7c5be41-c3b4-43d5-9269-2b6ab021b9eb"
      },
      "outputs": [
        {
          "output_type": "stream",
          "name": "stdout",
          "text": [
            "Looking in indexes: https://pypi.org/simple, https://us-python.pkg.dev/colab-wheels/public/simple/\n",
            "Collecting lpips\n",
            "  Downloading lpips-0.1.4-py3-none-any.whl (53 kB)\n",
            "\u001b[?25l\r\u001b[K     |██████                          | 10 kB 34.2 MB/s eta 0:00:01\r\u001b[K     |████████████▏                   | 20 kB 17.1 MB/s eta 0:00:01\r\u001b[K     |██████████████████▎             | 30 kB 10.1 MB/s eta 0:00:01\r\u001b[K     |████████████████████████▍       | 40 kB 7.1 MB/s eta 0:00:01\r\u001b[K     |██████████████████████████████▌ | 51 kB 8.4 MB/s eta 0:00:01\r\u001b[K     |████████████████████████████████| 53 kB 2.0 MB/s \n",
            "\u001b[?25hRequirement already satisfied: tqdm>=4.28.1 in /usr/local/lib/python3.7/site-packages (from lpips) (4.59.0)\n",
            "Requirement already satisfied: numpy>=1.14.3 in /usr/local/lib/python3.7/site-packages (from lpips) (1.20.3)\n",
            "Requirement already satisfied: torchvision>=0.2.1 in /usr/local/lib/python3.7/site-packages (from lpips) (0.2.2)\n",
            "Requirement already satisfied: torch>=0.4.0 in /usr/local/lib/python3.7/site-packages (from lpips) (1.12.1)\n",
            "Requirement already satisfied: scipy>=1.0.1 in /usr/local/lib/python3.7/site-packages (from lpips) (1.7.3)\n",
            "Requirement already satisfied: typing_extensions in /usr/local/lib/python3.7/site-packages (from torch>=0.4.0->lpips) (4.3.0)\n",
            "Requirement already satisfied: six in /usr/local/lib/python3.7/site-packages (from torchvision>=0.2.1->lpips) (1.15.0)\n",
            "Requirement already satisfied: pillow>=4.1.1 in /usr/local/lib/python3.7/site-packages (from torchvision>=0.2.1->lpips) (9.2.0)\n",
            "Installing collected packages: lpips\n",
            "Successfully installed lpips-0.1.4\n",
            "Looking in indexes: https://pypi.org/simple, https://us-python.pkg.dev/colab-wheels/public/simple/\n",
            "Collecting keras\n",
            "  Downloading keras-2.9.0-py2.py3-none-any.whl (1.6 MB)\n",
            "\u001b[K     |████████████████████████████████| 1.6 MB 7.2 MB/s \n",
            "\u001b[?25hInstalling collected packages: keras\n",
            "Successfully installed keras-2.9.0\n",
            "Looking in indexes: https://pypi.org/simple, https://us-python.pkg.dev/colab-wheels/public/simple/\n",
            "Collecting git+https://github.com/crowsonkb/k-diffusion/\n",
            "  Cloning https://github.com/crowsonkb/k-diffusion/ to /tmp/pip-req-build-d1txt56f\n",
            "  Running command git clone -q https://github.com/crowsonkb/k-diffusion/ /tmp/pip-req-build-d1txt56f\n",
            "  Installing build dependencies ... \u001b[?25l\u001b[?25hdone\n",
            "  Getting requirements to build wheel ... \u001b[?25l\u001b[?25hdone\n",
            "  Installing backend dependencies ... \u001b[?25l\u001b[?25hdone\n",
            "    Preparing wheel metadata ... \u001b[?25l\u001b[?25hdone\n",
            "Collecting CLIP@ git+https://github.com/openai/CLIP\n",
            "  Cloning https://github.com/openai/CLIP to /tmp/pip-install-en87uo23/clip_3f4fb082c90e4a4ea9f66ba0ba7b3e28\n",
            "  Running command git clone -q https://github.com/openai/CLIP /tmp/pip-install-en87uo23/clip_3f4fb082c90e4a4ea9f66ba0ba7b3e28\n",
            "Collecting accelerate\n",
            "  Downloading accelerate-0.12.0-py3-none-any.whl (143 kB)\n",
            "\u001b[K     |████████████████████████████████| 143 kB 7.6 MB/s \n",
            "\u001b[?25hCollecting resize-right\n",
            "  Downloading resize_right-0.0.2-py3-none-any.whl (8.9 kB)\n",
            "Requirement already satisfied: scikit-image in /usr/local/lib/python3.7/site-packages (from k-diffusion==0.0.1) (0.19.3)\n",
            "Requirement already satisfied: Pillow in /usr/local/lib/python3.7/site-packages (from k-diffusion==0.0.1) (9.2.0)\n",
            "Requirement already satisfied: torchvision in /usr/local/lib/python3.7/site-packages (from k-diffusion==0.0.1) (0.2.2)\n",
            "Collecting wandb\n",
            "  Downloading wandb-0.13.1-py2.py3-none-any.whl (1.8 MB)\n",
            "\u001b[K     |████████████████████████████████| 1.8 MB 60.7 MB/s \n",
            "\u001b[?25hCollecting clean-fid\n",
            "  Downloading clean_fid-0.1.28-py3-none-any.whl (23 kB)\n",
            "Requirement already satisfied: kornia in /usr/local/lib/python3.7/site-packages (from k-diffusion==0.0.1) (0.6.6)\n",
            "Collecting jsonmerge\n",
            "  Downloading jsonmerge-1.8.0.tar.gz (26 kB)\n",
            "Requirement already satisfied: torch in /usr/local/lib/python3.7/site-packages (from k-diffusion==0.0.1) (1.12.1)\n",
            "Collecting torchdiffeq\n",
            "  Downloading torchdiffeq-0.2.3-py3-none-any.whl (31 kB)\n",
            "Requirement already satisfied: scipy in /usr/local/lib/python3.7/site-packages (from k-diffusion==0.0.1) (1.7.3)\n",
            "Requirement already satisfied: einops in /usr/local/lib/python3.7/site-packages (from k-diffusion==0.0.1) (0.4.1)\n",
            "Requirement already satisfied: tqdm in /usr/local/lib/python3.7/site-packages (from k-diffusion==0.0.1) (4.59.0)\n",
            "Requirement already satisfied: ftfy in /usr/local/lib/python3.7/site-packages (from CLIP@ git+https://github.com/openai/CLIP->k-diffusion==0.0.1) (6.1.1)\n",
            "Requirement already satisfied: regex in /usr/local/lib/python3.7/site-packages (from CLIP@ git+https://github.com/openai/CLIP->k-diffusion==0.0.1) (2022.8.17)\n",
            "Collecting psutil\n",
            "  Downloading psutil-5.9.1-cp37-cp37m-manylinux_2_12_x86_64.manylinux2010_x86_64.manylinux_2_17_x86_64.manylinux2014_x86_64.whl (281 kB)\n",
            "\u001b[K     |████████████████████████████████| 281 kB 73.0 MB/s \n",
            "\u001b[?25hRequirement already satisfied: packaging>=20.0 in /usr/local/lib/python3.7/site-packages (from accelerate->k-diffusion==0.0.1) (21.3)\n",
            "Requirement already satisfied: numpy>=1.17 in /usr/local/lib/python3.7/site-packages (from accelerate->k-diffusion==0.0.1) (1.20.3)\n",
            "Requirement already satisfied: pyyaml in /usr/local/lib/python3.7/site-packages (from accelerate->k-diffusion==0.0.1) (6.0)\n",
            "Requirement already satisfied: pyparsing!=3.0.5,>=2.0.2 in /usr/local/lib/python3.7/site-packages (from packaging>=20.0->accelerate->k-diffusion==0.0.1) (3.0.9)\n",
            "Requirement already satisfied: typing_extensions in /usr/local/lib/python3.7/site-packages (from torch->k-diffusion==0.0.1) (4.3.0)\n",
            "Requirement already satisfied: requests==2.25.1 in /usr/local/lib/python3.7/site-packages (from clean-fid->k-diffusion==0.0.1) (2.25.1)\n",
            "Requirement already satisfied: chardet<5,>=3.0.2 in /usr/local/lib/python3.7/site-packages (from requests==2.25.1->clean-fid->k-diffusion==0.0.1) (4.0.0)\n",
            "Requirement already satisfied: certifi>=2017.4.17 in /usr/local/lib/python3.7/site-packages (from requests==2.25.1->clean-fid->k-diffusion==0.0.1) (2022.6.15)\n",
            "Requirement already satisfied: urllib3<1.27,>=1.21.1 in /usr/local/lib/python3.7/site-packages (from requests==2.25.1->clean-fid->k-diffusion==0.0.1) (1.26.3)\n",
            "Requirement already satisfied: idna<3,>=2.5 in /usr/local/lib/python3.7/site-packages (from requests==2.25.1->clean-fid->k-diffusion==0.0.1) (2.10)\n",
            "Requirement already satisfied: wcwidth>=0.2.5 in /usr/local/lib/python3.7/site-packages (from ftfy->CLIP@ git+https://github.com/openai/CLIP->k-diffusion==0.0.1) (0.2.5)\n",
            "Collecting jsonschema\n",
            "  Downloading jsonschema-4.12.1-py3-none-any.whl (81 kB)\n",
            "\u001b[K     |████████████████████████████████| 81 kB 10.5 MB/s \n",
            "\u001b[?25hCollecting importlib-resources>=1.4.0\n",
            "  Downloading importlib_resources-5.9.0-py3-none-any.whl (33 kB)\n",
            "Requirement already satisfied: attrs>=17.4.0 in /usr/local/lib/python3.7/site-packages (from jsonschema->jsonmerge->k-diffusion==0.0.1) (22.1.0)\n",
            "Collecting pkgutil-resolve-name>=1.3.10\n",
            "  Downloading pkgutil_resolve_name-1.3.10-py3-none-any.whl (4.7 kB)\n",
            "Collecting pyrsistent!=0.17.0,!=0.17.1,!=0.17.2,>=0.14.0\n",
            "  Downloading pyrsistent-0.18.1-cp37-cp37m-manylinux_2_17_x86_64.manylinux2014_x86_64.whl (117 kB)\n",
            "\u001b[K     |████████████████████████████████| 117 kB 84.2 MB/s \n",
            "\u001b[?25hRequirement already satisfied: importlib-metadata in /usr/local/lib/python3.7/site-packages (from jsonschema->jsonmerge->k-diffusion==0.0.1) (4.12.0)\n",
            "Requirement already satisfied: zipp>=3.1.0 in /usr/local/lib/python3.7/site-packages (from importlib-resources>=1.4.0->jsonschema->jsonmerge->k-diffusion==0.0.1) (3.8.1)\n",
            "Requirement already satisfied: imageio>=2.4.1 in /usr/local/lib/python3.7/site-packages (from scikit-image->k-diffusion==0.0.1) (2.21.1)\n",
            "Requirement already satisfied: PyWavelets>=1.1.1 in /usr/local/lib/python3.7/site-packages (from scikit-image->k-diffusion==0.0.1) (1.3.0)\n",
            "Requirement already satisfied: networkx>=2.2 in /usr/local/lib/python3.7/site-packages (from scikit-image->k-diffusion==0.0.1) (2.6.3)\n",
            "Requirement already satisfied: tifffile>=2019.7.26 in /usr/local/lib/python3.7/site-packages (from scikit-image->k-diffusion==0.0.1) (2021.11.2)\n",
            "Requirement already satisfied: six in /usr/local/lib/python3.7/site-packages (from torchvision->k-diffusion==0.0.1) (1.15.0)\n",
            "Collecting promise<3,>=2.0\n",
            "  Downloading promise-2.3.tar.gz (19 kB)\n",
            "Collecting shortuuid>=0.5.0\n",
            "  Downloading shortuuid-1.0.9-py3-none-any.whl (9.4 kB)\n",
            "Collecting pathtools\n",
            "  Downloading pathtools-0.1.2.tar.gz (11 kB)\n",
            "Collecting Click!=8.0.0,>=7.0\n",
            "  Downloading click-8.1.3-py3-none-any.whl (96 kB)\n",
            "\u001b[K     |████████████████████████████████| 96 kB 6.6 MB/s \n",
            "\u001b[?25hCollecting sentry-sdk>=1.0.0\n",
            "  Downloading sentry_sdk-1.9.5-py2.py3-none-any.whl (157 kB)\n",
            "\u001b[K     |████████████████████████████████| 157 kB 86.4 MB/s \n",
            "\u001b[?25hCollecting GitPython>=1.0.0\n",
            "  Downloading GitPython-3.1.27-py3-none-any.whl (181 kB)\n",
            "\u001b[K     |████████████████████████████████| 181 kB 89.4 MB/s \n",
            "\u001b[?25hCollecting setproctitle\n",
            "  Downloading setproctitle-1.3.2-cp37-cp37m-manylinux_2_5_x86_64.manylinux1_x86_64.manylinux_2_17_x86_64.manylinux2014_x86_64.whl (30 kB)\n",
            "Requirement already satisfied: setuptools in /usr/local/lib/python3.7/site-packages (from wandb->k-diffusion==0.0.1) (49.6.0.post20210108)\n",
            "Collecting docker-pycreds>=0.4.0\n",
            "  Downloading docker_pycreds-0.4.0-py2.py3-none-any.whl (9.0 kB)\n",
            "Requirement already satisfied: protobuf<4.0dev,>=3.12.0 in /usr/local/lib/python3.7/site-packages (from wandb->k-diffusion==0.0.1) (3.19.4)\n",
            "Collecting gitdb<5,>=4.0.1\n",
            "  Downloading gitdb-4.0.9-py3-none-any.whl (63 kB)\n",
            "\u001b[K     |████████████████████████████████| 63 kB 1.9 MB/s \n",
            "\u001b[?25hCollecting smmap<6,>=3.0.1\n",
            "  Downloading smmap-5.0.0-py3-none-any.whl (24 kB)\n",
            "Collecting urllib3<1.27,>=1.21.1\n",
            "  Downloading urllib3-1.26.11-py2.py3-none-any.whl (139 kB)\n",
            "\u001b[K     |████████████████████████████████| 139 kB 76.1 MB/s \n",
            "\u001b[?25hBuilding wheels for collected packages: k-diffusion, jsonmerge, promise, pathtools\n",
            "  Building wheel for k-diffusion (PEP 517) ... \u001b[?25l\u001b[?25hdone\n",
            "  Created wheel for k-diffusion: filename=k_diffusion-0.0.1-py3-none-any.whl size=20080 sha256=77f038fe5adc2f430a8cdeee97a86a5f02b748d454c7052fa25ac2781a63dde5\n",
            "  Stored in directory: /tmp/pip-ephem-wheel-cache-6v4mueau/wheels/c2/04/13/c8abb2d43b3b34c0bb29d95d9c911fe03ad7aaabc6d1f58e76\n",
            "  Building wheel for jsonmerge (setup.py) ... \u001b[?25l\u001b[?25hdone\n",
            "  Created wheel for jsonmerge: filename=jsonmerge-1.8.0-py3-none-any.whl size=17995 sha256=65c3da57a8f4763137f4bc5a88b8fa5d327b6e276b139f50beebf942f37699fb\n",
            "  Stored in directory: /root/.cache/pip/wheels/2f/c8/79/83ddc70e0b20f2df3bbac658c2c5d665b76cedd02e67bd61dc\n",
            "  Building wheel for promise (setup.py) ... \u001b[?25l\u001b[?25hdone\n",
            "  Created wheel for promise: filename=promise-2.3-py3-none-any.whl size=21494 sha256=dcb3617077d1dd0ca1ebe2da244c3b78b70fc0fccf7f55aa73d6c9490f7dbf7a\n",
            "  Stored in directory: /root/.cache/pip/wheels/29/93/c6/762e359f8cb6a5b69c72235d798804cae523bbe41c2aa8333d\n",
            "  Building wheel for pathtools (setup.py) ... \u001b[?25l\u001b[?25hdone\n",
            "  Created wheel for pathtools: filename=pathtools-0.1.2-py3-none-any.whl size=8784 sha256=f4e1dae8ae35e557f32d0139f4b540ff62fe37df6e803ffcf75a29b6130066ea\n",
            "  Stored in directory: /root/.cache/pip/wheels/3e/31/09/fa59cef12cdcfecc627b3d24273699f390e71828921b2cbba2\n",
            "Successfully built k-diffusion jsonmerge promise pathtools\n",
            "Installing collected packages: smmap, urllib3, pyrsistent, pkgutil-resolve-name, importlib-resources, gitdb, shortuuid, setproctitle, sentry-sdk, psutil, promise, pathtools, jsonschema, GitPython, docker-pycreds, Click, wandb, torchdiffeq, resize-right, jsonmerge, clean-fid, accelerate, k-diffusion\n",
            "  Attempting uninstall: urllib3\n",
            "    Found existing installation: urllib3 1.26.3\n",
            "    Uninstalling urllib3-1.26.3:\n",
            "      Successfully uninstalled urllib3-1.26.3\n",
            "Successfully installed Click-8.1.3 GitPython-3.1.27 accelerate-0.12.0 clean-fid-0.1.28 docker-pycreds-0.4.0 gitdb-4.0.9 importlib-resources-5.9.0 jsonmerge-1.8.0 jsonschema-4.12.1 k-diffusion-0.0.1 pathtools-0.1.2 pkgutil-resolve-name-1.3.10 promise-2.3 psutil-5.9.1 pyrsistent-0.18.1 resize-right-0.0.2 sentry-sdk-1.9.5 setproctitle-1.3.2 shortuuid-1.0.9 smmap-5.0.0 torchdiffeq-0.2.3 urllib3-1.26.11 wandb-0.13.1\n",
            "Looking in indexes: https://pypi.org/simple, https://us-python.pkg.dev/colab-wheels/public/simple/\n",
            "Collecting git+https://github.com/openai/CLIP (from -r /content/drive/MyDrive/requirements.txt (line 15))\n",
            "  Cloning https://github.com/openai/CLIP to /tmp/pip-req-build-4g33fpei\n",
            "  Running command git clone -q https://github.com/openai/CLIP /tmp/pip-req-build-4g33fpei\n",
            "Requirement already satisfied: accelerate in /usr/local/lib/python3.7/site-packages (from -r /content/drive/MyDrive/requirements.txt (line 1)) (0.12.0)\n",
            "Requirement already satisfied: clean-fid in /usr/local/lib/python3.7/site-packages (from -r /content/drive/MyDrive/requirements.txt (line 2)) (0.1.28)\n",
            "Requirement already satisfied: einops in /usr/local/lib/python3.7/site-packages (from -r /content/drive/MyDrive/requirements.txt (line 3)) (0.4.1)\n",
            "Requirement already satisfied: jsonmerge in /usr/local/lib/python3.7/site-packages (from -r /content/drive/MyDrive/requirements.txt (line 4)) (1.8.0)\n",
            "Requirement already satisfied: kornia in /usr/local/lib/python3.7/site-packages (from -r /content/drive/MyDrive/requirements.txt (line 5)) (0.6.6)\n",
            "Requirement already satisfied: Pillow in /usr/local/lib/python3.7/site-packages (from -r /content/drive/MyDrive/requirements.txt (line 6)) (9.2.0)\n",
            "Requirement already satisfied: resize-right in /usr/local/lib/python3.7/site-packages (from -r /content/drive/MyDrive/requirements.txt (line 7)) (0.0.2)\n",
            "Requirement already satisfied: scikit-image in /usr/local/lib/python3.7/site-packages (from -r /content/drive/MyDrive/requirements.txt (line 8)) (0.19.3)\n",
            "Requirement already satisfied: scipy in /usr/local/lib/python3.7/site-packages (from -r /content/drive/MyDrive/requirements.txt (line 9)) (1.7.3)\n",
            "Requirement already satisfied: torch in /usr/local/lib/python3.7/site-packages (from -r /content/drive/MyDrive/requirements.txt (line 10)) (1.12.1)\n",
            "Requirement already satisfied: torchdiffeq in /usr/local/lib/python3.7/site-packages (from -r /content/drive/MyDrive/requirements.txt (line 11)) (0.2.3)\n",
            "Requirement already satisfied: torchvision in /usr/local/lib/python3.7/site-packages (from -r /content/drive/MyDrive/requirements.txt (line 12)) (0.2.2)\n",
            "Requirement already satisfied: tqdm in /usr/local/lib/python3.7/site-packages (from -r /content/drive/MyDrive/requirements.txt (line 13)) (4.59.0)\n",
            "Requirement already satisfied: wandb in /usr/local/lib/python3.7/site-packages (from -r /content/drive/MyDrive/requirements.txt (line 14)) (0.13.1)\n",
            "Requirement already satisfied: ftfy in /usr/local/lib/python3.7/site-packages (from clip==1.0->-r /content/drive/MyDrive/requirements.txt (line 15)) (6.1.1)\n",
            "Requirement already satisfied: regex in /usr/local/lib/python3.7/site-packages (from clip==1.0->-r /content/drive/MyDrive/requirements.txt (line 15)) (2022.8.17)\n",
            "Requirement already satisfied: packaging>=20.0 in /usr/local/lib/python3.7/site-packages (from accelerate->-r /content/drive/MyDrive/requirements.txt (line 1)) (21.3)\n",
            "Requirement already satisfied: numpy>=1.17 in /usr/local/lib/python3.7/site-packages (from accelerate->-r /content/drive/MyDrive/requirements.txt (line 1)) (1.20.3)\n",
            "Requirement already satisfied: pyyaml in /usr/local/lib/python3.7/site-packages (from accelerate->-r /content/drive/MyDrive/requirements.txt (line 1)) (6.0)\n",
            "Requirement already satisfied: psutil in /usr/local/lib/python3.7/site-packages (from accelerate->-r /content/drive/MyDrive/requirements.txt (line 1)) (5.9.1)\n",
            "Requirement already satisfied: typing_extensions in /usr/local/lib/python3.7/site-packages (from torch->-r /content/drive/MyDrive/requirements.txt (line 10)) (4.3.0)\n",
            "Requirement already satisfied: pyparsing!=3.0.5,>=2.0.2 in /usr/local/lib/python3.7/site-packages (from packaging>=20.0->accelerate->-r /content/drive/MyDrive/requirements.txt (line 1)) (3.0.9)\n",
            "Requirement already satisfied: requests==2.25.1 in /usr/local/lib/python3.7/site-packages (from clean-fid->-r /content/drive/MyDrive/requirements.txt (line 2)) (2.25.1)\n",
            "Requirement already satisfied: certifi>=2017.4.17 in /usr/local/lib/python3.7/site-packages (from requests==2.25.1->clean-fid->-r /content/drive/MyDrive/requirements.txt (line 2)) (2022.6.15)\n",
            "Requirement already satisfied: idna<3,>=2.5 in /usr/local/lib/python3.7/site-packages (from requests==2.25.1->clean-fid->-r /content/drive/MyDrive/requirements.txt (line 2)) (2.10)\n",
            "Requirement already satisfied: chardet<5,>=3.0.2 in /usr/local/lib/python3.7/site-packages (from requests==2.25.1->clean-fid->-r /content/drive/MyDrive/requirements.txt (line 2)) (4.0.0)\n",
            "Requirement already satisfied: urllib3<1.27,>=1.21.1 in /usr/local/lib/python3.7/site-packages (from requests==2.25.1->clean-fid->-r /content/drive/MyDrive/requirements.txt (line 2)) (1.26.11)\n",
            "Requirement already satisfied: jsonschema in /usr/local/lib/python3.7/site-packages (from jsonmerge->-r /content/drive/MyDrive/requirements.txt (line 4)) (4.12.1)\n",
            "Requirement already satisfied: imageio>=2.4.1 in /usr/local/lib/python3.7/site-packages (from scikit-image->-r /content/drive/MyDrive/requirements.txt (line 8)) (2.21.1)\n",
            "Requirement already satisfied: PyWavelets>=1.1.1 in /usr/local/lib/python3.7/site-packages (from scikit-image->-r /content/drive/MyDrive/requirements.txt (line 8)) (1.3.0)\n",
            "Requirement already satisfied: tifffile>=2019.7.26 in /usr/local/lib/python3.7/site-packages (from scikit-image->-r /content/drive/MyDrive/requirements.txt (line 8)) (2021.11.2)\n",
            "Requirement already satisfied: networkx>=2.2 in /usr/local/lib/python3.7/site-packages (from scikit-image->-r /content/drive/MyDrive/requirements.txt (line 8)) (2.6.3)\n",
            "Requirement already satisfied: six in /usr/local/lib/python3.7/site-packages (from torchvision->-r /content/drive/MyDrive/requirements.txt (line 12)) (1.15.0)\n",
            "Requirement already satisfied: shortuuid>=0.5.0 in /usr/local/lib/python3.7/site-packages (from wandb->-r /content/drive/MyDrive/requirements.txt (line 14)) (1.0.9)\n",
            "Requirement already satisfied: sentry-sdk>=1.0.0 in /usr/local/lib/python3.7/site-packages (from wandb->-r /content/drive/MyDrive/requirements.txt (line 14)) (1.9.5)\n",
            "Requirement already satisfied: docker-pycreds>=0.4.0 in /usr/local/lib/python3.7/site-packages (from wandb->-r /content/drive/MyDrive/requirements.txt (line 14)) (0.4.0)\n",
            "Requirement already satisfied: GitPython>=1.0.0 in /usr/local/lib/python3.7/site-packages (from wandb->-r /content/drive/MyDrive/requirements.txt (line 14)) (3.1.27)\n",
            "Requirement already satisfied: pathtools in /usr/local/lib/python3.7/site-packages (from wandb->-r /content/drive/MyDrive/requirements.txt (line 14)) (0.1.2)\n",
            "Requirement already satisfied: protobuf<4.0dev,>=3.12.0 in /usr/local/lib/python3.7/site-packages (from wandb->-r /content/drive/MyDrive/requirements.txt (line 14)) (3.19.4)\n",
            "Requirement already satisfied: promise<3,>=2.0 in /usr/local/lib/python3.7/site-packages (from wandb->-r /content/drive/MyDrive/requirements.txt (line 14)) (2.3)\n",
            "Requirement already satisfied: setproctitle in /usr/local/lib/python3.7/site-packages (from wandb->-r /content/drive/MyDrive/requirements.txt (line 14)) (1.3.2)\n",
            "Requirement already satisfied: Click!=8.0.0,>=7.0 in /usr/local/lib/python3.7/site-packages (from wandb->-r /content/drive/MyDrive/requirements.txt (line 14)) (8.1.3)\n",
            "Requirement already satisfied: setuptools in /usr/local/lib/python3.7/site-packages (from wandb->-r /content/drive/MyDrive/requirements.txt (line 14)) (49.6.0.post20210108)\n",
            "Requirement already satisfied: importlib-metadata in /usr/local/lib/python3.7/site-packages (from Click!=8.0.0,>=7.0->wandb->-r /content/drive/MyDrive/requirements.txt (line 14)) (4.12.0)\n",
            "Requirement already satisfied: gitdb<5,>=4.0.1 in /usr/local/lib/python3.7/site-packages (from GitPython>=1.0.0->wandb->-r /content/drive/MyDrive/requirements.txt (line 14)) (4.0.9)\n",
            "Requirement already satisfied: smmap<6,>=3.0.1 in /usr/local/lib/python3.7/site-packages (from gitdb<5,>=4.0.1->GitPython>=1.0.0->wandb->-r /content/drive/MyDrive/requirements.txt (line 14)) (5.0.0)\n",
            "Requirement already satisfied: wcwidth>=0.2.5 in /usr/local/lib/python3.7/site-packages (from ftfy->clip==1.0->-r /content/drive/MyDrive/requirements.txt (line 15)) (0.2.5)\n",
            "Requirement already satisfied: zipp>=0.5 in /usr/local/lib/python3.7/site-packages (from importlib-metadata->Click!=8.0.0,>=7.0->wandb->-r /content/drive/MyDrive/requirements.txt (line 14)) (3.8.1)\n",
            "Requirement already satisfied: pkgutil-resolve-name>=1.3.10 in /usr/local/lib/python3.7/site-packages (from jsonschema->jsonmerge->-r /content/drive/MyDrive/requirements.txt (line 4)) (1.3.10)\n",
            "Requirement already satisfied: attrs>=17.4.0 in /usr/local/lib/python3.7/site-packages (from jsonschema->jsonmerge->-r /content/drive/MyDrive/requirements.txt (line 4)) (22.1.0)\n",
            "Requirement already satisfied: importlib-resources>=1.4.0 in /usr/local/lib/python3.7/site-packages (from jsonschema->jsonmerge->-r /content/drive/MyDrive/requirements.txt (line 4)) (5.9.0)\n",
            "Requirement already satisfied: pyrsistent!=0.17.0,!=0.17.1,!=0.17.2,>=0.14.0 in /usr/local/lib/python3.7/site-packages (from jsonschema->jsonmerge->-r /content/drive/MyDrive/requirements.txt (line 4)) (0.18.1)\n"
          ]
        }
      ],
      "source": [
        "%pip install lpips\n",
        "%pip install keras\n",
        "%pip install git+https://github.com/crowsonkb/k-diffusion/\n",
        "%pip install -r /content/drive/MyDrive/requirements.txt #IF USING COLAB\n",
        "#%pip install -r /workspace/StableRun/requirements.txt #IF USING JUPYTR"
      ]
    },
    {
      "cell_type": "markdown",
      "metadata": {
        "id": "y_6MvdU4AMyS",
        "tags": []
      },
      "source": [
        "# Sample"
      ]
    },
    {
      "cell_type": "code",
      "execution_count": null,
      "metadata": {
        "id": "g_yjNynVUfUX"
      },
      "outputs": [],
      "source": [
        "# usage: txt2img.py [-h] [--prompt [PROMPT]] [--outdir [OUTDIR]] [--skip_grid] [--skip_save] [--ddim_steps DDIM_STEPS] [--plms] [--laion400m] [--fixed_code] [--ddim_eta DDIM_ETA] [--n_iter N_ITER] [--H H] [--W W] [--C C] [--f F] [--n_samples N_SAMPLES] [--n_rows N_ROWS]\n",
        "#                   [--scale SCALE] [--from-file FROM_FILE] [--config CONFIG] [--ckpt CKPT] [--seed SEED] [--precision {full,autocast}]\n",
        "\n",
        "# optional arguments:\n",
        "#   -h, --help            show this help message and exit\n",
        "#   --prompt [PROMPT]     the prompt to render\n",
        "#   --outdir [OUTDIR]     dir to write results to\n",
        "#   --skip_grid           do not save a grid, only individual samples. Helpful when evaluating lots of samples\n",
        "#   --skip_save           do not save individual samples. For speed measurements.\n",
        "#   --ddim_steps DDIM_STEPS\n",
        "#                         number of ddim sampling steps\n",
        "#   --plms                use plms sampling\n",
        "#   --laion400m           uses the LAION400M model\n",
        "#   --fixed_code          if enabled, uses the same starting code across samples\n",
        "#   --ddim_eta DDIM_ETA   ddim eta (eta=0.0 corresponds to deterministic sampling\n",
        "#   --n_iter N_ITER       sample this often\n",
        "#   --H H                 image height, in pixel space\n",
        "#   --W W                 image width, in pixel space\n",
        "#   --C C                 latent channels\n",
        "#   --f F                 downsampling factor\n",
        "#   --n_samples N_SAMPLES\n",
        "#                         how many samples to produce for each given prompt. A.k.a. batch size\n",
        "#   --n_rows N_ROWS       rows in the grid (default: n_samples)\n",
        "#   --scale SCALE         unconditional guidance scale: eps = eps(x, empty) + scale * (eps(x, cond) - eps(x, empty))\n",
        "#   --from-file FROM_FILE\n",
        "#                         if specified, load prompts from this file\n",
        "#   --config CONFIG       path to config which constructs model\n",
        "#   --ckpt CKPT           path to checkpoint of model\n",
        "#   --seed SEED           the seed (for reproducible sampling)\n",
        "#   --precision {full,autocast}\n",
        "#                         evaluate at this precision\n",
        "\n",
        "\n"
      ]
    },
    {
      "cell_type": "code",
      "execution_count": 18,
      "metadata": {
        "colab": {
          "base_uri": "https://localhost:8080/"
        },
        "id": "i9e6r3Wj09gk",
        "outputId": "24642bd1-0756-46cf-b798-3a8db88ea766"
      },
      "outputs": [
        {
          "output_type": "stream",
          "name": "stdout",
          "text": [
            "Traceback (most recent call last):\n",
            "  File \"scripts/txt2img.py\", line 9, in <module>\n",
            "    from torchvision.utils import make_grid\n",
            "  File \"/usr/local/lib/python3.7/site-packages/torchvision/__init__.py\", line 2, in <module>\n",
            "    from torchvision import datasets\n",
            "  File \"/usr/local/lib/python3.7/site-packages/torchvision/datasets/__init__.py\", line 9, in <module>\n",
            "    from .fakedata import FakeData\n",
            "  File \"/usr/local/lib/python3.7/site-packages/torchvision/datasets/fakedata.py\", line 3, in <module>\n",
            "    from .. import transforms\n",
            "  File \"/usr/local/lib/python3.7/site-packages/torchvision/transforms/__init__.py\", line 1, in <module>\n",
            "    from .transforms import *\n",
            "  File \"/usr/local/lib/python3.7/site-packages/torchvision/transforms/transforms.py\", line 17, in <module>\n",
            "    from . import functional as F\n",
            "  File \"/usr/local/lib/python3.7/site-packages/torchvision/transforms/functional.py\", line 5, in <module>\n",
            "    from PIL import Image, ImageOps, ImageEnhance, PILLOW_VERSION\n",
            "ImportError: cannot import name 'PILLOW_VERSION' from 'PIL' (/usr/local/lib/python3.7/site-packages/PIL/__init__.py)\n"
          ]
        }
      ],
      "source": [
        "#USING COLAB PRO HIGH-RAM (CHANGE SEED EACH TIME):\n",
        "\n",
        "#txt2img no k_lms sampling\n",
        "#!python scripts/txt2img.py --prompt \"photorealistic award-winning photograph of a dog on a unicycle \" --n_samples 1 --n_iter 1 --ddim_steps 50 --H 640 --scale 7 --seed 4314123 --plms\n",
        "\n",
        "#txt2img with k_lms sampling\n",
        "!python scripts/txt2img_k.py --prompt \"photorealistic award-winning photograph of a dog on a unicycle \" --n_samples 1 --n_iter 1 --ddim_steps 50 --H 640 --scale 7 --seed 1134143 "
      ]
    },
    {
      "cell_type": "code",
      "execution_count": null,
      "metadata": {
        "id": "Wn0Wx7iQJYxQ"
      },
      "outputs": [],
      "source": [
        "#USING 1xA6000 OR EQUIVALENT (CHANGE SEED EACH TIME):\n",
        "\n",
        "#txt2img no k_lms sampling\n",
        "!python scripts/txt2img.py --prompt \"photorealistic award-winning photograph of a dog on a unicycle \" --n_samples 3 --n_iter 1 --ddim_steps 50 --H 832 --W 576 --scale 10 --seed 9235342 --plms\n",
        "#txt2img with k_lms sampling\n",
        "!python scripts/txt2img_k.py --prompt \"photorealistic award-winning photograph of a dog on a unicycle \" --n_samples 3 --n_iter 1 --ddim_steps 50 --H 832 --W 576 --scale 10 --seed 9235342"
      ]
    },
    {
      "cell_type": "code",
      "execution_count": null,
      "metadata": {
        "id": "NJJUVeQEXjIj"
      },
      "outputs": [],
      "source": [
        "#image2image script\n",
        "\n",
        "!python scripts/img2img.py --prompt \"photorealistic award-wining photograph of a dog on a unicycle\" --init-img /imagepath/image.png --strength 0.4 --seed 1574552011 --scale 7 --n_samples 1 --n_iter 1"
      ]
    }
  ],
  "metadata": {
    "accelerator": "GPU",
    "colab": {
      "collapsed_sections": [
        "pYdmG6nYqJ7E",
        "skmLp5U6qGtD",
        "wJScwX1UAEng"
      ],
      "machine_shape": "hm",
      "name": "stable-k-4d.ipynb",
      "provenance": []
    },
    "gpuClass": "standard",
    "kernelspec": {
      "display_name": "Python 3 (ipykernel)",
      "language": "python",
      "name": "python3"
    },
    "language_info": {
      "codemirror_mode": {
        "name": "ipython",
        "version": 3
      },
      "file_extension": ".py",
      "mimetype": "text/x-python",
      "name": "python",
      "nbconvert_exporter": "python",
      "pygments_lexer": "ipython3",
      "version": "3.7.13"
    }
  },
  "nbformat": 4,
  "nbformat_minor": 0
}
