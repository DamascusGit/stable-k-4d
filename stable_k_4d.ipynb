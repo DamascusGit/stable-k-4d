{
  "cells": [
    {
      "cell_type": "markdown",
      "metadata": {
        "tags": [],
        "id": "cdyweXLq09gU"
      },
      "source": [
        "# STABLE-K-4D\n",
        "\n",
        "jupyter/colab implementation of [Stable Diffusion](https://github.com/CompVis/stable-diffusion) and Katherine Crowson's [k-diffusion wrapper](https://github.com/crowsonkb/k-diffusion) in order to use the k_lms sampler  by [karan4d](https://twitter.com/karan4d) aka [DamascusGit](https://github.com/DamascusGit). The notebook utilizes CPU draw manual seeding with k_lms and has a weird quantize.py adjustment in an attempt to best replicate the results from Simulacra/Dreambot using the stable-diffusion weights.\n",
        "\n",
        "implemented with the help of [Katherine Crowson](https://https://twitter.com/rivershavewings), palp, wbrown, and litexev. shoutout SimulacraBot/DreamBot and their team, as well as the good folks over at EleutherAI + StabilityAI."
      ]
    },
    {
      "cell_type": "code",
      "source": [
        "# FOR COLAB\n",
        "\n",
        "from google.colab import drive\n",
        "drive.mount('/content/drive')"
      ],
      "metadata": {
        "colab": {
          "base_uri": "https://localhost:8080/"
        },
        "id": "EMZ1nT2B1nG1",
        "outputId": "48f99f75-5657-43dd-84e6-b9255fc05a27"
      },
      "execution_count": 1,
      "outputs": [
        {
          "output_type": "stream",
          "name": "stdout",
          "text": [
            "Mounted at /content/drive\n"
          ]
        }
      ]
    },
    {
      "cell_type": "code",
      "execution_count": 2,
      "metadata": {
        "colab": {
          "base_uri": "https://localhost:8080/"
        },
        "id": "vBAxxY1rG-vH",
        "outputId": "1edb8ae3-3295-4980-e03b-9c6b1a855cd1"
      },
      "outputs": [
        {
          "output_type": "stream",
          "name": "stdout",
          "text": [
            "mkdir: cannot create directory ‘/workspace/StableRun’: No such file or directory\n",
            "[Errno 2] No such file or directory: '/workspace/StableRun'\n",
            "/content\n",
            "✨🍰✨ Everything looks OK!\n",
            "conda 4.9.2\n",
            "condacolab_install.log\tdrive  sample_data\n"
          ]
        }
      ],
      "source": [
        "#USE THIS FOR JUPYTER\n",
        "\n",
        "#%mkdir /workspace/StableRun\n",
        "#%cd /workspace/StableRun\n",
        "\n",
        "#USE THIS FOR COLAB\n",
        "\n",
        "%mkdir /content/drive/MyDrive/StableRun/\n",
        "%cd /content/drive/MyDrive/StableRun/\n",
        "\n",
        "!pip install -q condacolab\n",
        "import condacolab\n",
        "condacolab.install()\n",
        "\n",
        "!conda --version\n",
        "#If !conda --version returns no results, install conda with :\n",
        "#!pip install -q condacolab\n",
        "#import condacolab\n",
        "#condacolab.install()\n",
        "\n",
        "!ls\n"
      ]
    },
    {
      "cell_type": "markdown",
      "metadata": {
        "id": "pYdmG6nYqJ7E",
        "tags": []
      },
      "source": [
        "# First time setup.\n",
        "\n",
        "You must have weights."
      ]
    },
    {
      "cell_type": "code",
      "execution_count": null,
      "metadata": {
        "colab": {
          "base_uri": "https://localhost:8080/"
        },
        "id": "x514OvQWHP6W",
        "outputId": "27cbbed3-cb89-48bf-f2be-13e92da6ba13"
      },
      "outputs": [
        {
          "name": "stdout",
          "output_type": "stream",
          "text": [
            "/workspace/StableRun\n"
          ]
        }
      ],
      "source": [
        "%cd /workspace/StableRun"
      ]
    },
    {
      "cell_type": "code",
      "execution_count": null,
      "metadata": {
        "colab": {
          "base_uri": "https://localhost:8080/"
        },
        "id": "FVP2pm22H-6e",
        "outputId": "5c4651ce-5a64-4527-a022-09f44d9becf8"
      },
      "outputs": [
        {
          "name": "stdout",
          "output_type": "stream",
          "text": [
            "Cloning into 'stable-diffusion'...\n",
            "remote: Enumerating objects: 290, done.\u001b[K\n",
            "remote: Counting objects: 100% (57/57), done.\u001b[K\n",
            "remote: Compressing objects: 100% (32/32), done.\u001b[K\n",
            "remote: Total 290 (delta 37), reused 25 (delta 25), pack-reused 233\u001b[K\n",
            "Receiving objects: 100% (290/290), 42.34 MiB | 4.80 MiB/s, done.\n",
            "Resolving deltas: 100% (96/96), done.\n"
          ]
        }
      ],
      "source": [
        "!git clone https://github.com/DamascusGit/stable-diffusion"
      ]
    },
    {
      "cell_type": "markdown",
      "metadata": {
        "id": "EJ9uypP-_kJZ",
        "tags": []
      },
      "source": [
        "# Redirect"
      ]
    },
    {
      "cell_type": "code",
      "execution_count": 3,
      "metadata": {
        "colab": {
          "base_uri": "https://localhost:8080/"
        },
        "id": "268jN0yHYt2x",
        "outputId": "2b02facb-925e-4810-d220-ed2629def9d6"
      },
      "outputs": [
        {
          "output_type": "stream",
          "name": "stdout",
          "text": [
            "[Errno 2] No such file or directory: '/workspace/StableRun/stable-diffusion'\n",
            "/content\n"
          ]
        }
      ],
      "source": [
        "%cd /workspace/StableRun/stable-diffusion"
      ]
    },
    {
      "cell_type": "markdown",
      "metadata": {
        "id": "skmLp5U6qGtD",
        "tags": []
      },
      "source": [
        "# Create Weak AF Environment\n",
        "\n",
        "Just click it, even if it does nothing after the first time."
      ]
    },
    {
      "cell_type": "code",
      "execution_count": 4,
      "metadata": {
        "colab": {
          "base_uri": "https://localhost:8080/"
        },
        "id": "mFGc6m_sIDqS",
        "outputId": "79bb23ee-9c3f-4f18-b0fc-8f70e830b8d9"
      },
      "outputs": [
        {
          "output_type": "stream",
          "name": "stdout",
          "text": [
            "\n",
            "EnvironmentFileNotFound: '/content/environment.yaml' file not found\n",
            "\n",
            "\n",
            "CommandNotFoundError: Your shell has not been properly configured to use 'conda activate'.\n",
            "To initialize your shell, run\n",
            "\n",
            "    $ conda init <SHELL_NAME>\n",
            "\n",
            "Currently supported shells are:\n",
            "  - bash\n",
            "  - fish\n",
            "  - tcsh\n",
            "  - xonsh\n",
            "  - zsh\n",
            "  - powershell\n",
            "\n",
            "See 'conda init --help' for more information and options.\n",
            "\n",
            "IMPORTANT: You may need to close and restart your shell after running 'conda init'.\n",
            "\n",
            "\n"
          ]
        }
      ],
      "source": [
        "!conda env create -f environment.yaml\n",
        "!conda activate ldm"
      ]
    },
    {
      "cell_type": "markdown",
      "metadata": {
        "id": "MkkX5ErRqDLM",
        "tags": []
      },
      "source": [
        "# Shitty Dependency Code"
      ]
    },
    {
      "cell_type": "code",
      "execution_count": null,
      "metadata": {
        "colab": {
          "base_uri": "https://localhost:8080/"
        },
        "id": "E_UAtsmbEQ5X",
        "outputId": "fec0c627-aa9c-40c4-d7d5-79d8bb618bcd"
      },
      "outputs": [
        {
          "output_type": "stream",
          "name": "stdout",
          "text": [
            "Collecting package metadata (current_repodata.json): - \b\b\\ \b\b| \b\b/ \b\b- \b\b\\ \b\b| \b\b/ \b\b- \b\b\\ \b\b| \b\b/ \b\b- \b\b\\ \b\b| \b\b/ \b\b- \b\b\\ \b\b| \b\b/ \b\b- \b\b\\ \b\b| \b\b/ \b\b- \b\b\\ \b\b| \b\b/ \b\b- \b\b\\ \b\b| \b\b/ \b\b- \b\b\\ \b\b| \b\b/ \b\b- \b\b\\ \b\b| \b\b/ \b\b- \b\b\\ \b\b| \b\b/ \b\b- \b\b\\ \b\b| \b\b/ \b\b- \b\b\\ \b\b| \b\b/ \b\b- \b\b\\ \b\b| \b\b/ \b\b- \b\b\\ \b\b| \b\b/ \b\b- \b\b\\ \b\b| \b\b/ \b\b- \b\b\\ \b\b| \b\b/ \b\b- \b\b\\ \b\b| \b\b/ \b\b- \b\bdone\n",
            "Solving environment: | \b\b/ \b\b- \b\b\\ \b\b| \b\b/ \b\b- \b\b\\ \b\b| \b\b/ \b\b- \b\b\\ \b\b| \b\b/ \b\b- \b\b\\ \b\b| \b\b/ \b\b- \b\b\\ \b\b| \b\b/ \b\b- \b\b\\ \b\b| \b\b/ \b\b- \b\b\\ \b\b| \b\b/ \b\b- \b\b\\ \b\b| \b\b/ \b\b- \b\b\\ \b\b| \b\b/ \b\b- \b\b\\ \b\b| \b\b/ \b\b- \b\b\\ \b\b| \b\b/ \b\b- \b\b\\ \b\b| \b\b/ \b\b- \b\b\\ \b\b| \b\b/ \b\b- \b\b\\ \b\b| \b\b/ \b\b- \b\b\\ \b\b| \b\b/ \b\b- \b\b\\ \b\b| \b\b/ \b\b- \b\b\\ \b\b| \b\b/ \b\b- \b\b\\ \b\b| \b\b/ \b\b- \b\bdone\n",
            "\n",
            "## Package Plan ##\n",
            "\n",
            "  environment location: /usr/local\n",
            "\n",
            "  added / updated specs:\n",
            "    - pytorch\n",
            "    - torchvision\n",
            "\n",
            "\n",
            "The following packages will be downloaded:\n",
            "\n",
            "    package                    |            build\n",
            "    ---------------------------|-----------------\n",
            "    _openmp_mutex-4.5          |       2_kmp_llvm           6 KB  conda-forge\n",
            "    blas-2.106                 |              mkl          12 KB  conda-forge\n",
            "    ca-certificates-2022.6.15  |       ha878542_0         149 KB  conda-forge\n",
            "    certifi-2022.6.15          |   py37h89c1867_0         155 KB  conda-forge\n",
            "    conda-4.14.0               |   py37h89c1867_0        1010 KB  conda-forge\n",
            "    cudatoolkit-11.1.1         |       h6406543_8        1.20 GB  conda-forge\n",
            "    freetype-2.12.1            |       hca18f0e_0         884 KB  conda-forge\n",
            "    jpeg-9e                    |       h166bdaf_2         269 KB  conda-forge\n",
            "    libblas-3.9.0              |            6_mkl          11 KB  conda-forge\n",
            "    libcblas-3.9.0             |            6_mkl          11 KB  conda-forge\n",
            "    libgcc-ng-12.1.0           |      h8d9b700_16         940 KB  conda-forge\n",
            "    libgfortran-ng-12.1.0      |      h69a702a_16          23 KB  conda-forge\n",
            "    libgfortran5-12.1.0        |      hdcd56e2_16         1.8 MB  conda-forge\n",
            "    liblapack-3.9.0            |            6_mkl          11 KB  conda-forge\n",
            "    liblapacke-3.9.0           |            6_mkl          11 KB  conda-forge\n",
            "    libpng-1.6.37              |       h753d276_4         371 KB  conda-forge\n",
            "    libtiff-4.0.10             |    hc3755c2_1005         602 KB  conda-forge\n",
            "    libzlib-1.2.12             |       h166bdaf_2          63 KB  conda-forge\n",
            "    llvm-openmp-14.0.4         |       he0ac6c6_0         5.8 MB  conda-forge\n",
            "    mkl-2020.4                 |     h726a3e6_304       215.6 MB  conda-forge\n",
            "    numpy-1.20.3               |   py37h3e96413_2         5.7 MB  conda-forge\n",
            "    olefile-0.46               |     pyh9f0ad1d_1          32 KB  conda-forge\n",
            "    openssl-1.1.1q             |       h166bdaf_0         2.1 MB  conda-forge\n",
            "    pillow-6.2.1               |   py37h6b7be26_0         637 KB  conda-forge\n",
            "    python_abi-3.7             |          2_cp37m           4 KB  conda-forge\n",
            "    pytorch-1.12.1             |      py3.7_cpu_0        76.6 MB  pytorch\n",
            "    pytorch-mutex-1.0          |              cpu           3 KB  pytorch\n",
            "    toolz-0.12.0               |     pyhd8ed1ab_0          48 KB  conda-forge\n",
            "    torchvision-0.2.2          |             py_3          44 KB  pytorch\n",
            "    typing_extensions-4.3.0    |     pyha770c72_0          28 KB  conda-forge\n",
            "    zlib-1.2.12                |       h166bdaf_2          91 KB  conda-forge\n",
            "    ------------------------------------------------------------\n",
            "                                           Total:        1.51 GB\n",
            "\n",
            "The following NEW packages will be INSTALLED:\n",
            "\n",
            "  blas               conda-forge/linux-64::blas-2.106-mkl\n",
            "  cudatoolkit        conda-forge/linux-64::cudatoolkit-11.1.1-h6406543_8\n",
            "  freetype           conda-forge/linux-64::freetype-2.12.1-hca18f0e_0\n",
            "  jpeg               conda-forge/linux-64::jpeg-9e-h166bdaf_2\n",
            "  libblas            conda-forge/linux-64::libblas-3.9.0-6_mkl\n",
            "  libcblas           conda-forge/linux-64::libcblas-3.9.0-6_mkl\n",
            "  libgfortran-ng     conda-forge/linux-64::libgfortran-ng-12.1.0-h69a702a_16\n",
            "  libgfortran5       conda-forge/linux-64::libgfortran5-12.1.0-hdcd56e2_16\n",
            "  liblapack          conda-forge/linux-64::liblapack-3.9.0-6_mkl\n",
            "  liblapacke         conda-forge/linux-64::liblapacke-3.9.0-6_mkl\n",
            "  libpng             conda-forge/linux-64::libpng-1.6.37-h753d276_4\n",
            "  libtiff            conda-forge/linux-64::libtiff-4.0.10-hc3755c2_1005\n",
            "  libzlib            conda-forge/linux-64::libzlib-1.2.12-h166bdaf_2\n",
            "  llvm-openmp        conda-forge/linux-64::llvm-openmp-14.0.4-he0ac6c6_0\n",
            "  mkl                conda-forge/linux-64::mkl-2020.4-h726a3e6_304\n",
            "  numpy              conda-forge/linux-64::numpy-1.20.3-py37h3e96413_2\n",
            "  olefile            conda-forge/noarch::olefile-0.46-pyh9f0ad1d_1\n",
            "  pillow             conda-forge/linux-64::pillow-6.2.1-py37h6b7be26_0\n",
            "  pytorch            pytorch/linux-64::pytorch-1.12.1-py3.7_cpu_0\n",
            "  pytorch-mutex      pytorch/noarch::pytorch-mutex-1.0-cpu\n",
            "  toolz              conda-forge/noarch::toolz-0.12.0-pyhd8ed1ab_0\n",
            "  torchvision        pytorch/noarch::torchvision-0.2.2-py_3\n",
            "  typing_extensions  conda-forge/noarch::typing_extensions-4.3.0-pyha770c72_0\n",
            "\n",
            "The following packages will be REMOVED:\n",
            "\n",
            "  libgomp-9.3.0-h2828fa1_18\n",
            "\n",
            "The following packages will be UPDATED:\n",
            "\n",
            "  ca-certificates                      2020.12.5-ha878542_0 --> 2022.6.15-ha878542_0\n",
            "  certifi                          2020.12.5-py37h89c1867_1 --> 2022.6.15-py37h89c1867_0\n",
            "  conda                                4.9.2-py37h89c1867_0 --> 4.14.0-py37h89c1867_0\n",
            "  libgcc-ng                               9.3.0-h2828fa1_18 --> 12.1.0-h8d9b700_16\n",
            "  openssl                                 1.1.1j-h7f98852_0 --> 1.1.1q-h166bdaf_0\n",
            "  python_abi                                    3.7-1_cp37m --> 3.7-2_cp37m\n",
            "  zlib                                 1.2.11-h516909a_1010 --> 1.2.12-h166bdaf_2\n",
            "\n",
            "The following packages will be DOWNGRADED:\n",
            "\n",
            "  _openmp_mutex                                   4.5-1_gnu --> 4.5-2_kmp_llvm\n",
            "\n",
            "\n",
            "\n",
            "Downloading and Extracting Packages\n",
            "libgfortran-ng-12.1. | 23 KB     | : 100% 1.0/1 [00:00<00:00, 11.87it/s]\n",
            "ca-certificates-2022 | 149 KB    | : 100% 1.0/1 [00:00<00:00, 14.01it/s]\n",
            "numpy-1.20.3         | 5.7 MB    | : 100% 1.0/1 [00:01<00:00,  1.04s/it]\n",
            "torchvision-0.2.2    | 44 KB     | : 100% 1.0/1 [00:00<00:00, 19.27it/s]\n",
            "libcblas-3.9.0       | 11 KB     | : 100% 1.0/1 [00:00<00:00, 27.96it/s]\n",
            "liblapacke-3.9.0     | 11 KB     | : 100% 1.0/1 [00:00<00:00, 26.83it/s]\n",
            "libpng-1.6.37        | 371 KB    | : 100% 1.0/1 [00:00<00:00, 11.59it/s]\n",
            "llvm-openmp-14.0.4   | 5.8 MB    | : 100% 1.0/1 [00:00<00:00,  1.23it/s]\n",
            "cudatoolkit-11.1.1   | 1.20 GB   | :  99% 0.9910528293360997/1 [00:10<00:00, 10.29s/it]"
          ]
        }
      ],
      "source": [
        "!conda install pytorch torchvision -c pytorch -y\n",
        "!pip install transformers==4.19.2\n",
        "!pip install -e .\n",
        "!conda install omegaconf\n",
        "!pip install omegaconf\n",
        "!pip install einops\n",
        "!pip install pytorch_lightning\n",
        "#!pip install git+https://github.com/Compvis/latent-diffusion.git\n",
        "#!conda install pytorch==1.9.0 torchvision==0.10.1 -c pytorch -c conda-forge\n",
        "#!pip install ldm\n",
        "#!pip install git+https://github.com/CompVis/latent-diffusion/tree/main/models/ldm.git\n",
        "#!pip install dlib\n",
        "#!pip install pillow==4.0.0\n",
        "!pip install scikit-image\n",
        "#!conda install Pillow==6.1\n",
        "!pip install opencv-python\n",
        "!pip install ai-tools\n",
        "!pip install cognitive-face\n",
        "!pip install zprint\n",
        "#!pip install setuptools==59.5.0\n",
        "!pip install taming-transformers\n",
        "!pip install git+https://github.com/openai/CLIP.git\n",
        "!pip install kornia"
      ]
    },
    {
      "cell_type": "markdown",
      "metadata": {
        "id": "9w456ug2kDO5",
        "jp-MarkdownHeadingCollapsed": true,
        "tags": []
      },
      "source": [
        "# MUST DO\n",
        "\n",
        "REPLACE quantize.py in /usr/local/lib/python3.7/site-packages/taming/modules/vqvae/quantize.py \n",
        "WITH\n",
        "\n",
        "/stable-diffusion/quantize.py\n",
        "\n",
        "rename the new checkpoint to model.ckpt if needed (should be in models/ldm/stable-diffusion-v1/)"
      ]
    },
    {
      "cell_type": "markdown",
      "metadata": {
        "id": "wJScwX1UAEng",
        "jp-MarkdownHeadingCollapsed": true,
        "tags": []
      },
      "source": [
        "# DEBUG SHIT IGNORE THIS"
      ]
    },
    {
      "cell_type": "code",
      "execution_count": null,
      "metadata": {
        "id": "wq3_Mr_sJGid"
      },
      "outputs": [],
      "source": [
        "!mkdir -p models/ldm/stable-diffusion-v1/\n",
        "\n",
        "%cd models/ldm/stable-diffusion-v1/\n",
        "\n",
        "!ln -s /content/drive/My Drive/stable-diffusion-v-1-3/sd-v1-3-full-ema.ckpt /content/drive/My\\ Drive/Stable\\ Run/stable-diffusion/models/ldm/stable-diffusion-v1/\n",
        "\n",
        "OUTDATED:\n",
        "\n",
        "REPLACE ldm.py in usr/local/lib/python3.7/site-packages/ldm.py WITH the one in /content/drive/My Drive/Stable\\ Run/ldm.py\n",
        "\n",
        "REPLACE microsoft_demo.py in /usr/local/lib/python3.7/site-packages/ai_tools/microsoft_demo.py WITH the one in /content/drive/My Drive/Stable\\ Run/microsoft_demo.py"
      ]
    },
    {
      "cell_type": "code",
      "execution_count": null,
      "metadata": {
        "id": "CGxaCFQThjco"
      },
      "outputs": [],
      "source": [
        "!pip freeze"
      ]
    },
    {
      "cell_type": "code",
      "execution_count": null,
      "metadata": {
        "id": "c5g2z9xDZin9"
      },
      "outputs": [],
      "source": [
        "!nvidia-smi"
      ]
    },
    {
      "cell_type": "code",
      "execution_count": null,
      "metadata": {
        "id": "biug_Qh4PC37"
      },
      "outputs": [],
      "source": [
        "#Out of memory? try this:\n",
        "\n",
        "#import torch\n",
        "#torch.cuda.empty_cache()\n",
        "\n",
        "#taskkill /F /PID <your PID here>\n",
        "\n",
        "#CUDA torch not enabled? try this:\n",
        "!pip uninstall torch\n",
        "!pip install torch --pre --extra-index-url https://download.pytorch.org/whl/nightly/cu116"
      ]
    },
    {
      "cell_type": "markdown",
      "metadata": {
        "id": "CJvxfonj0yZG",
        "tags": []
      },
      "source": [
        "# *For k-diffusion*\n",
        "\n",
        "check this to make sure you install requirements appropriate for jupyter or colab."
      ]
    },
    {
      "cell_type": "code",
      "execution_count": null,
      "metadata": {
        "colab": {
          "base_uri": "https://localhost:8080/"
        },
        "id": "dL2D5mld03yI",
        "outputId": "3e409fec-c871-4857-9f72-2ec71a031322"
      },
      "outputs": [
        {
          "name": "stdout",
          "output_type": "stream",
          "text": [
            "Collecting lpips\n",
            "  Downloading lpips-0.1.4-py3-none-any.whl (53 kB)\n",
            "\u001b[K     |████████████████████████████████| 53 kB 1.4 MB/s eta 0:00:011\n",
            "\u001b[?25hRequirement already satisfied: scipy>=1.0.1 in /opt/conda/lib/python3.7/site-packages (from lpips) (1.7.3)\n",
            "Requirement already satisfied: torchvision>=0.2.1 in /opt/conda/lib/python3.7/site-packages (from lpips) (0.13.0)\n",
            "Requirement already satisfied: numpy>=1.14.3 in /opt/conda/lib/python3.7/site-packages (from lpips) (1.21.5)\n",
            "Requirement already satisfied: torch>=0.4.0 in /opt/conda/lib/python3.7/site-packages (from lpips) (1.12.0)\n",
            "Requirement already satisfied: tqdm>=4.28.1 in /opt/conda/lib/python3.7/site-packages (from lpips) (4.63.0)\n",
            "Requirement already satisfied: typing_extensions in /opt/conda/lib/python3.7/site-packages (from torch>=0.4.0->lpips) (4.1.1)\n",
            "Requirement already satisfied: requests in /opt/conda/lib/python3.7/site-packages (from torchvision>=0.2.1->lpips) (2.27.1)\n",
            "Requirement already satisfied: pillow!=8.3.*,>=5.3.0 in /opt/conda/lib/python3.7/site-packages (from torchvision>=0.2.1->lpips) (9.0.1)\n",
            "Requirement already satisfied: urllib3<1.27,>=1.21.1 in /opt/conda/lib/python3.7/site-packages (from requests->torchvision>=0.2.1->lpips) (1.26.8)\n",
            "Requirement already satisfied: idna<4,>=2.5 in /opt/conda/lib/python3.7/site-packages (from requests->torchvision>=0.2.1->lpips) (3.3)\n",
            "Requirement already satisfied: certifi>=2017.4.17 in /opt/conda/lib/python3.7/site-packages (from requests->torchvision>=0.2.1->lpips) (2022.6.15)\n",
            "Requirement already satisfied: charset-normalizer~=2.0.0 in /opt/conda/lib/python3.7/site-packages (from requests->torchvision>=0.2.1->lpips) (2.0.4)\n",
            "Installing collected packages: lpips\n",
            "Successfully installed lpips-0.1.4\n",
            "\u001b[33mWARNING: Running pip as the 'root' user can result in broken permissions and conflicting behaviour with the system package manager. It is recommended to use a virtual environment instead: https://pip.pypa.io/warnings/venv\u001b[0m\n",
            "Note: you may need to restart the kernel to use updated packages.\n",
            "Collecting keras\n",
            "  Downloading keras-2.9.0-py2.py3-none-any.whl (1.6 MB)\n",
            "\u001b[K     |████████████████████████████████| 1.6 MB 5.8 MB/s eta 0:00:01\n",
            "\u001b[?25hInstalling collected packages: keras\n",
            "Successfully installed keras-2.9.0\n",
            "\u001b[33mWARNING: Running pip as the 'root' user can result in broken permissions and conflicting behaviour with the system package manager. It is recommended to use a virtual environment instead: https://pip.pypa.io/warnings/venv\u001b[0m\n",
            "Note: you may need to restart the kernel to use updated packages.\n",
            "Collecting git+https://github.com/crowsonkb/k-diffusion/\n",
            "  Cloning https://github.com/crowsonkb/k-diffusion/ to /tmp/pip-req-build-41nhr91u\n",
            "  Running command git clone -q https://github.com/crowsonkb/k-diffusion/ /tmp/pip-req-build-41nhr91u\n",
            "  Resolved https://github.com/crowsonkb/k-diffusion/ to commit 481677d114f6ea445aa009cf5bd7a9cdee909e47\n",
            "  Installing build dependencies ... \u001b[?25ldone\n",
            "\u001b[?25h  Getting requirements to build wheel ... \u001b[?25ldone\n",
            "\u001b[?25h  Installing backend dependencies ... \u001b[?25ldone\n",
            "\u001b[?25h    Preparing wheel metadata ... \u001b[?25ldone\n",
            "\u001b[?25hCollecting CLIP@ git+https://github.com/openai/CLIP\n",
            "  Cloning https://github.com/openai/CLIP to /tmp/pip-install-tve9331h/clip_b0a4ff8939d94e5d829e7bad3d65f0db\n",
            "  Running command git clone -q https://github.com/openai/CLIP /tmp/pip-install-tve9331h/clip_b0a4ff8939d94e5d829e7bad3d65f0db\n",
            "  Resolved https://github.com/openai/CLIP to commit d50d76daa670286dd6cacf3bcd80b5e4823fc8e1\n",
            "Collecting jsonmerge\n",
            "  Downloading jsonmerge-1.8.0.tar.gz (26 kB)\n",
            "Requirement already satisfied: kornia in /opt/conda/lib/python3.7/site-packages (from k-diffusion==0.0.1) (0.6.6)\n",
            "Collecting accelerate\n",
            "  Downloading accelerate-0.12.0-py3-none-any.whl (143 kB)\n",
            "\u001b[K     |████████████████████████████████| 143 kB 4.9 MB/s eta 0:00:01\n",
            "\u001b[?25hCollecting clean-fid\n",
            "  Downloading clean_fid-0.1.28-py3-none-any.whl (23 kB)\n",
            "Requirement already satisfied: torch in /opt/conda/lib/python3.7/site-packages (from k-diffusion==0.0.1) (1.12.0)\n",
            "Requirement already satisfied: scikit-image in /opt/conda/lib/python3.7/site-packages (from k-diffusion==0.0.1) (0.19.3)\n",
            "Requirement already satisfied: tqdm in /opt/conda/lib/python3.7/site-packages (from k-diffusion==0.0.1) (4.63.0)\n",
            "Collecting wandb\n",
            "  Downloading wandb-0.13.1-py2.py3-none-any.whl (1.8 MB)\n",
            "\u001b[K     |████████████████████████████████| 1.8 MB 5.3 MB/s eta 0:00:01\n",
            "\u001b[?25hCollecting torchdiffeq\n",
            "  Downloading torchdiffeq-0.2.3-py3-none-any.whl (31 kB)\n",
            "Requirement already satisfied: einops in /opt/conda/lib/python3.7/site-packages (from k-diffusion==0.0.1) (0.4.1)\n",
            "Requirement already satisfied: Pillow in /opt/conda/lib/python3.7/site-packages (from k-diffusion==0.0.1) (9.0.1)\n",
            "Requirement already satisfied: torchvision in /opt/conda/lib/python3.7/site-packages (from k-diffusion==0.0.1) (0.13.0)\n",
            "Requirement already satisfied: scipy in /opt/conda/lib/python3.7/site-packages (from k-diffusion==0.0.1) (1.7.3)\n",
            "Collecting resize-right\n",
            "  Downloading resize_right-0.0.2-py3-none-any.whl (8.9 kB)\n",
            "Requirement already satisfied: packaging>=20.0 in /opt/conda/lib/python3.7/site-packages (from accelerate->k-diffusion==0.0.1) (21.3)\n",
            "Requirement already satisfied: pyyaml in /opt/conda/lib/python3.7/site-packages (from accelerate->k-diffusion==0.0.1) (6.0)\n",
            "Requirement already satisfied: numpy>=1.17 in /opt/conda/lib/python3.7/site-packages (from accelerate->k-diffusion==0.0.1) (1.21.5)\n",
            "Requirement already satisfied: psutil in /opt/conda/lib/python3.7/site-packages (from accelerate->k-diffusion==0.0.1) (5.8.0)\n",
            "Requirement already satisfied: pyparsing!=3.0.5,>=2.0.2 in /opt/conda/lib/python3.7/site-packages (from packaging>=20.0->accelerate->k-diffusion==0.0.1) (3.0.9)\n",
            "Requirement already satisfied: typing_extensions in /opt/conda/lib/python3.7/site-packages (from torch->k-diffusion==0.0.1) (4.1.1)\n",
            "Collecting requests==2.25.1\n",
            "  Downloading requests-2.25.1-py2.py3-none-any.whl (61 kB)\n",
            "\u001b[K     |████████████████████████████████| 61 kB 6.3 MB/s  eta 0:00:01\n",
            "\u001b[?25hRequirement already satisfied: urllib3<1.27,>=1.21.1 in /opt/conda/lib/python3.7/site-packages (from requests==2.25.1->clean-fid->k-diffusion==0.0.1) (1.26.8)\n",
            "Requirement already satisfied: chardet<5,>=3.0.2 in /opt/conda/lib/python3.7/site-packages (from requests==2.25.1->clean-fid->k-diffusion==0.0.1) (4.0.0)\n",
            "Requirement already satisfied: certifi>=2017.4.17 in /opt/conda/lib/python3.7/site-packages (from requests==2.25.1->clean-fid->k-diffusion==0.0.1) (2022.6.15)\n",
            "Collecting idna<3,>=2.5\n",
            "  Downloading idna-2.10-py2.py3-none-any.whl (58 kB)\n",
            "\u001b[K     |████████████████████████████████| 58 kB 8.7 MB/s  eta 0:00:01\n",
            "\u001b[?25hRequirement already satisfied: ftfy in /opt/conda/lib/python3.7/site-packages (from CLIP@ git+https://github.com/openai/CLIP->k-diffusion==0.0.1) (6.1.1)\n",
            "Requirement already satisfied: regex in /opt/conda/lib/python3.7/site-packages (from CLIP@ git+https://github.com/openai/CLIP->k-diffusion==0.0.1) (2022.8.17)\n",
            "Requirement already satisfied: wcwidth>=0.2.5 in /opt/conda/lib/python3.7/site-packages (from ftfy->CLIP@ git+https://github.com/openai/CLIP->k-diffusion==0.0.1) (0.2.5)\n",
            "Requirement already satisfied: jsonschema in /opt/conda/lib/python3.7/site-packages (from jsonmerge->k-diffusion==0.0.1) (4.9.1)\n",
            "Requirement already satisfied: importlib-resources>=1.4.0 in /opt/conda/lib/python3.7/site-packages (from jsonschema->jsonmerge->k-diffusion==0.0.1) (5.9.0)\n",
            "Requirement already satisfied: importlib-metadata in /opt/conda/lib/python3.7/site-packages (from jsonschema->jsonmerge->k-diffusion==0.0.1) (4.12.0)\n",
            "Requirement already satisfied: attrs>=17.4.0 in /opt/conda/lib/python3.7/site-packages (from jsonschema->jsonmerge->k-diffusion==0.0.1) (22.1.0)\n",
            "Requirement already satisfied: pkgutil-resolve-name>=1.3.10 in /opt/conda/lib/python3.7/site-packages (from jsonschema->jsonmerge->k-diffusion==0.0.1) (1.3.10)\n",
            "Requirement already satisfied: pyrsistent!=0.17.0,!=0.17.1,!=0.17.2,>=0.14.0 in /opt/conda/lib/python3.7/site-packages (from jsonschema->jsonmerge->k-diffusion==0.0.1) (0.18.1)\n",
            "Requirement already satisfied: zipp>=3.1.0 in /opt/conda/lib/python3.7/site-packages (from importlib-resources>=1.4.0->jsonschema->jsonmerge->k-diffusion==0.0.1) (3.8.1)\n",
            "Requirement already satisfied: PyWavelets>=1.1.1 in /opt/conda/lib/python3.7/site-packages (from scikit-image->k-diffusion==0.0.1) (1.3.0)\n",
            "Requirement already satisfied: imageio>=2.4.1 in /opt/conda/lib/python3.7/site-packages (from scikit-image->k-diffusion==0.0.1) (2.21.1)\n",
            "Requirement already satisfied: tifffile>=2019.7.26 in /opt/conda/lib/python3.7/site-packages (from scikit-image->k-diffusion==0.0.1) (2021.11.2)\n",
            "Requirement already satisfied: networkx>=2.2 in /opt/conda/lib/python3.7/site-packages (from scikit-image->k-diffusion==0.0.1) (2.6.3)\n",
            "Requirement already satisfied: protobuf<4.0dev,>=3.12.0 in /opt/conda/lib/python3.7/site-packages (from wandb->k-diffusion==0.0.1) (3.19.4)\n",
            "Collecting setproctitle\n",
            "  Downloading setproctitle-1.3.2-cp37-cp37m-manylinux_2_5_x86_64.manylinux1_x86_64.manylinux_2_17_x86_64.manylinux2014_x86_64.whl (30 kB)\n",
            "Requirement already satisfied: six>=1.13.0 in /opt/conda/lib/python3.7/site-packages (from wandb->k-diffusion==0.0.1) (1.16.0)\n",
            "Collecting shortuuid>=0.5.0\n",
            "  Downloading shortuuid-1.0.9-py3-none-any.whl (9.4 kB)\n",
            "Collecting promise<3,>=2.0\n",
            "  Downloading promise-2.3.tar.gz (19 kB)\n",
            "Collecting GitPython>=1.0.0\n",
            "  Using cached GitPython-3.1.27-py3-none-any.whl (181 kB)\n",
            "Collecting docker-pycreds>=0.4.0\n",
            "  Downloading docker_pycreds-0.4.0-py2.py3-none-any.whl (9.0 kB)\n",
            "Requirement already satisfied: setuptools in /opt/conda/lib/python3.7/site-packages (from wandb->k-diffusion==0.0.1) (61.2.0)\n",
            "Collecting pathtools\n",
            "  Downloading pathtools-0.1.2.tar.gz (11 kB)\n",
            "Collecting Click!=8.0.0,>=7.0\n",
            "  Using cached click-8.1.3-py3-none-any.whl (96 kB)\n",
            "Collecting sentry-sdk>=1.0.0\n",
            "  Downloading sentry_sdk-1.9.5-py2.py3-none-any.whl (157 kB)\n",
            "\u001b[K     |████████████████████████████████| 157 kB 18.3 MB/s eta 0:00:01\n",
            "\u001b[?25hCollecting gitdb<5,>=4.0.1\n",
            "  Using cached gitdb-4.0.9-py3-none-any.whl (63 kB)\n",
            "Collecting smmap<6,>=3.0.1\n",
            "  Using cached smmap-5.0.0-py3-none-any.whl (24 kB)\n",
            "Collecting urllib3<1.27,>=1.21.1\n",
            "  Downloading urllib3-1.26.11-py2.py3-none-any.whl (139 kB)\n",
            "\u001b[K     |████████████████████████████████| 139 kB 24.0 MB/s eta 0:00:01\n",
            "\u001b[?25hBuilding wheels for collected packages: k-diffusion, jsonmerge, promise, pathtools\n",
            "  Building wheel for k-diffusion (PEP 517) ... \u001b[?25ldone\n",
            "\u001b[?25h  Created wheel for k-diffusion: filename=k_diffusion-0.0.1-py3-none-any.whl size=20080 sha256=3db924560dadf56fd67e60a279947278e9c7c027f54efd9249e5701fdf28223b\n",
            "  Stored in directory: /tmp/pip-ephem-wheel-cache-s_zs8fgc/wheels/c2/04/13/c8abb2d43b3b34c0bb29d95d9c911fe03ad7aaabc6d1f58e76\n",
            "  Building wheel for jsonmerge (setup.py) ... \u001b[?25ldone\n",
            "\u001b[?25h  Created wheel for jsonmerge: filename=jsonmerge-1.8.0-py3-none-any.whl size=18003 sha256=fc56ddf671bcb0409b1104ad4da90b822c0689aff703973bbf950daecc7550d5\n",
            "  Stored in directory: /root/.cache/pip/wheels/2f/c8/79/83ddc70e0b20f2df3bbac658c2c5d665b76cedd02e67bd61dc\n",
            "  Building wheel for promise (setup.py) ... \u001b[?25ldone\n",
            "\u001b[?25h  Created wheel for promise: filename=promise-2.3-py3-none-any.whl size=21503 sha256=cb2a85ba71d95f38fa33b1514f96f878ee3a95a2c301ad6fd4f18def87210dca\n",
            "  Stored in directory: /root/.cache/pip/wheels/29/93/c6/762e359f8cb6a5b69c72235d798804cae523bbe41c2aa8333d\n",
            "  Building wheel for pathtools (setup.py) ... \u001b[?25ldone\n",
            "\u001b[?25h  Created wheel for pathtools: filename=pathtools-0.1.2-py3-none-any.whl size=8806 sha256=a4c288e548d5fe975ae66e8a806bd0021b0888b3c0bd997f112b2aa945e9feeb\n",
            "  Stored in directory: /root/.cache/pip/wheels/3e/31/09/fa59cef12cdcfecc627b3d24273699f390e71828921b2cbba2\n",
            "Successfully built k-diffusion jsonmerge promise pathtools\n",
            "Installing collected packages: urllib3, smmap, idna, requests, gitdb, shortuuid, setproctitle, sentry-sdk, promise, pathtools, GitPython, docker-pycreds, Click, wandb, torchdiffeq, resize-right, jsonmerge, clean-fid, accelerate, k-diffusion\n",
            "  Attempting uninstall: urllib3\n",
            "    Found existing installation: urllib3 1.26.8\n",
            "    Uninstalling urllib3-1.26.8:\n",
            "      Successfully uninstalled urllib3-1.26.8\n",
            "  Attempting uninstall: idna\n",
            "    Found existing installation: idna 3.3\n",
            "    Uninstalling idna-3.3:\n",
            "      Successfully uninstalled idna-3.3\n",
            "  Attempting uninstall: requests\n",
            "    Found existing installation: requests 2.27.1\n",
            "    Uninstalling requests-2.27.1:\n",
            "      Successfully uninstalled requests-2.27.1\n",
            "Successfully installed Click-8.1.3 GitPython-3.1.27 accelerate-0.12.0 clean-fid-0.1.28 docker-pycreds-0.4.0 gitdb-4.0.9 idna-2.10 jsonmerge-1.8.0 k-diffusion-0.0.1 pathtools-0.1.2 promise-2.3 requests-2.25.1 resize-right-0.0.2 sentry-sdk-1.9.5 setproctitle-1.3.2 shortuuid-1.0.9 smmap-5.0.0 torchdiffeq-0.2.3 urllib3-1.26.11 wandb-0.13.1\n",
            "\u001b[33mWARNING: Running pip as the 'root' user can result in broken permissions and conflicting behaviour with the system package manager. It is recommended to use a virtual environment instead: https://pip.pypa.io/warnings/venv\u001b[0m\n",
            "Note: you may need to restart the kernel to use updated packages.\n",
            "\u001b[31mERROR: Could not open requirements file: [Errno 2] No such file or directory: '/workspace/StableRun/requirements.txt'\u001b[0m\n",
            "Note: you may need to restart the kernel to use updated packages.\n"
          ]
        }
      ],
      "source": [
        "%pip install lpips\n",
        "%pip install keras\n",
        "%pip install git+https://github.com/crowsonkb/k-diffusion/\n",
        "%pip install -r /content/drive/MyDrive/requirements.txt #IF USING COLAB\n",
        "#%pip install -r /workspace/StableRun/requirements.txt #IF USING JUPYTR"
      ]
    },
    {
      "cell_type": "markdown",
      "metadata": {
        "id": "y_6MvdU4AMyS",
        "tags": []
      },
      "source": [
        "# Sample"
      ]
    },
    {
      "cell_type": "code",
      "execution_count": null,
      "metadata": {
        "id": "g_yjNynVUfUX"
      },
      "outputs": [],
      "source": [
        "# usage: txt2img.py [-h] [--prompt [PROMPT]] [--outdir [OUTDIR]] [--skip_grid] [--skip_save] [--ddim_steps DDIM_STEPS] [--plms] [--laion400m] [--fixed_code] [--ddim_eta DDIM_ETA] [--n_iter N_ITER] [--H H] [--W W] [--C C] [--f F] [--n_samples N_SAMPLES] [--n_rows N_ROWS]\n",
        "#                   [--scale SCALE] [--from-file FROM_FILE] [--config CONFIG] [--ckpt CKPT] [--seed SEED] [--precision {full,autocast}]\n",
        "\n",
        "# optional arguments:\n",
        "#   -h, --help            show this help message and exit\n",
        "#   --prompt [PROMPT]     the prompt to render\n",
        "#   --outdir [OUTDIR]     dir to write results to\n",
        "#   --skip_grid           do not save a grid, only individual samples. Helpful when evaluating lots of samples\n",
        "#   --skip_save           do not save individual samples. For speed measurements.\n",
        "#   --ddim_steps DDIM_STEPS\n",
        "#                         number of ddim sampling steps\n",
        "#   --plms                use plms sampling\n",
        "#   --laion400m           uses the LAION400M model\n",
        "#   --fixed_code          if enabled, uses the same starting code across samples\n",
        "#   --ddim_eta DDIM_ETA   ddim eta (eta=0.0 corresponds to deterministic sampling\n",
        "#   --n_iter N_ITER       sample this often\n",
        "#   --H H                 image height, in pixel space\n",
        "#   --W W                 image width, in pixel space\n",
        "#   --C C                 latent channels\n",
        "#   --f F                 downsampling factor\n",
        "#   --n_samples N_SAMPLES\n",
        "#                         how many samples to produce for each given prompt. A.k.a. batch size\n",
        "#   --n_rows N_ROWS       rows in the grid (default: n_samples)\n",
        "#   --scale SCALE         unconditional guidance scale: eps = eps(x, empty) + scale * (eps(x, cond) - eps(x, empty))\n",
        "#   --from-file FROM_FILE\n",
        "#                         if specified, load prompts from this file\n",
        "#   --config CONFIG       path to config which constructs model\n",
        "#   --ckpt CKPT           path to checkpoint of model\n",
        "#   --seed SEED           the seed (for reproducible sampling)\n",
        "#   --precision {full,autocast}\n",
        "#                         evaluate at this precision\n",
        "\n",
        "\n"
      ]
    },
    {
      "cell_type": "code",
      "execution_count": null,
      "metadata": {
        "id": "i9e6r3Wj09gk"
      },
      "outputs": [],
      "source": [
        "#USING COLAB PRO HIGH-RAM (CHANGE SEED EACH TIME):\n",
        "\n",
        "#txt2img no k_lms sampling\n",
        "#!python scripts/txt2img.py --prompt \"photorealistic award-winning photograph of a dog on a unicycle \" --n_samples 1 --n_iter 1 --ddim_steps 50 --H 640 --scale 7 --seed 4314123 --plms\n",
        "\n",
        "#txt2img with k_lms sampling\n",
        "!python scripts/txt2img.py --prompt \"photorealistic award-winning photograph of a dog on a unicycle \" --n_samples 1 --n_iter 1 --ddim_steps 50 --H 640 --scale 7 --seed 1134143 "
      ]
    },
    {
      "cell_type": "code",
      "execution_count": null,
      "metadata": {
        "id": "Wn0Wx7iQJYxQ"
      },
      "outputs": [],
      "source": [
        "#USING 1xA6000 OR EQUIVALENT (CHANGE SEED EACH TIME):\n",
        "\n",
        "#txt2img no k_lms sampling\n",
        "!python scripts/txt2img.py --prompt \"photorealistic award-winning photograph of a dog on a unicycle \" --n_samples 3 --n_iter 1 --ddim_steps 50 --H 832 --W 576 --scale 10 --seed 9235342 --plms\n",
        "#txt2img with k_lms sampling\n",
        "!python scripts/txt2img_k.py --prompt \"photorealistic award-winning photograph of a dog on a unicycle \" --n_samples 3 --n_iter 1 --ddim_steps 50 --H 832 --W 576 --scale 10 --seed 9235342"
      ]
    },
    {
      "cell_type": "code",
      "execution_count": null,
      "metadata": {
        "id": "NJJUVeQEXjIj"
      },
      "outputs": [],
      "source": [
        "#image2image script\n",
        "\n",
        "!python scripts/img2img.py --prompt \"photorealistic award-wining photograph of a dog on a unicycle\" --init-img /imagepath/image.png --strength 0.4 --seed 1574552011 --scale 7 --n_samples 1 --n_iter 1"
      ]
    }
  ],
  "metadata": {
    "accelerator": "GPU",
    "colab": {
      "collapsed_sections": [
        "pYdmG6nYqJ7E",
        "EJ9uypP-_kJZ"
      ],
      "machine_shape": "hm",
      "name": "stable-k-4d.ipynb",
      "provenance": []
    },
    "gpuClass": "standard",
    "kernelspec": {
      "display_name": "Python 3 (ipykernel)",
      "language": "python",
      "name": "python3"
    },
    "language_info": {
      "codemirror_mode": {
        "name": "ipython",
        "version": 3
      },
      "file_extension": ".py",
      "mimetype": "text/x-python",
      "name": "python",
      "nbconvert_exporter": "python",
      "pygments_lexer": "ipython3",
      "version": "3.7.13"
    }
  },
  "nbformat": 4,
  "nbformat_minor": 0
}