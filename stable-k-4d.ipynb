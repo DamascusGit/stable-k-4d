{
 "cells": [
  {
   "cell_type": "markdown",
   "metadata": {
    "tags": []
   },
   "source": [
    "# STABLE-K-4D\n",
    "\n",
    "jupyter/colab implementation of [Stable Diffusion](https://github.com/CompVis/stable-diffusion) and Katherine Crowson's [k-diffusion wrapper](https://github.com/crowsonkb/k-diffusion) in order to use the k_lms sampler  by [karan4d](https://twitter.com/karan4d) aka [DamascusGit](https://github.com/DamascusGit). The notebook utilizes CPU draw manual seeding with k_lms and has a weird quantize.py adjustment in an attempt to best replicate the results from Simulacra/Dreambot using the stable-diffusion weights.\n",
    "\n",
    "implemented with the help of [Katherine Crowson](https://https://twitter.com/rivershavewings), palp, wbrown, and litexev. shoutout SimulacraBot/DreamBot and their team, as well as the good folks over at EleutherAI + StabilityAI."
   ]
  },
  {
   "cell_type": "code",
   "execution_count": 2,
   "metadata": {
    "colab": {
     "base_uri": "https://localhost:8080/"
    },
    "id": "vBAxxY1rG-vH",
    "outputId": "1e43baea-fcaa-4781-8b4d-4356177af436"
   },
   "outputs": [
    {
     "name": "stdout",
     "output_type": "stream",
     "text": [
      "/workspace/StableRun\n"
     ]
    }
   ],
   "source": [
    "%mkdir /workspace/StableRun\n",
    "%cd /workspace/StableRun"
   ]
  },
  {
   "cell_type": "markdown",
   "metadata": {
    "id": "pYdmG6nYqJ7E",
    "tags": []
   },
   "source": [
    "# First time setup.\n",
    "\n",
    "You must have weights."
   ]
  },
  {
   "cell_type": "code",
   "execution_count": 3,
   "metadata": {
    "colab": {
     "base_uri": "https://localhost:8080/"
    },
    "id": "x514OvQWHP6W",
    "outputId": "27cbbed3-cb89-48bf-f2be-13e92da6ba13"
   },
   "outputs": [
    {
     "name": "stdout",
     "output_type": "stream",
     "text": [
      "/workspace/StableRun\n"
     ]
    }
   ],
   "source": [
    "%cd /workspace/StableRun"
   ]
  },
  {
   "cell_type": "code",
   "execution_count": 4,
   "metadata": {
    "colab": {
     "base_uri": "https://localhost:8080/"
    },
    "id": "FVP2pm22H-6e",
    "outputId": "5c4651ce-5a64-4527-a022-09f44d9becf8"
   },
   "outputs": [
    {
     "name": "stdout",
     "output_type": "stream",
     "text": [
      "Cloning into 'stable-diffusion'...\n",
      "remote: Enumerating objects: 290, done.\u001b[K\n",
      "remote: Counting objects: 100% (57/57), done.\u001b[K\n",
      "remote: Compressing objects: 100% (32/32), done.\u001b[K\n",
      "remote: Total 290 (delta 37), reused 25 (delta 25), pack-reused 233\u001b[K\n",
      "Receiving objects: 100% (290/290), 42.34 MiB | 4.80 MiB/s, done.\n",
      "Resolving deltas: 100% (96/96), done.\n"
     ]
    }
   ],
   "source": [
    "!git clone https://github.com/DamascusGit/stable-diffusion"
   ]
  },
  {
   "cell_type": "markdown",
   "metadata": {
    "id": "EJ9uypP-_kJZ",
    "tags": []
   },
   "source": [
    "# Redirect"
   ]
  },
  {
   "cell_type": "code",
   "execution_count": 5,
   "metadata": {
    "colab": {
     "base_uri": "https://localhost:8080/"
    },
    "id": "268jN0yHYt2x",
    "outputId": "bf26912b-805c-49e0-d279-f6fcdc5d6a9d"
   },
   "outputs": [
    {
     "name": "stdout",
     "output_type": "stream",
     "text": [
      "/workspace/StableRun/stable-diffusion\n"
     ]
    }
   ],
   "source": [
    "%cd /workspace/StableRun/stable-diffusion"
   ]
  },
  {
   "cell_type": "markdown",
   "metadata": {
    "id": "skmLp5U6qGtD",
    "tags": []
   },
   "source": [
    "# Create Weak AF Environment\n",
    "\n",
    "Just click it, even if it does nothing after the first time."
   ]
  },
  {
   "cell_type": "code",
   "execution_count": null,
   "metadata": {
    "colab": {
     "base_uri": "https://localhost:8080/"
    },
    "id": "mFGc6m_sIDqS",
    "outputId": "95123543-5fb8-41e3-fd7c-7ad2c631a8a1"
   },
   "outputs": [
    {
     "name": "stdout",
     "output_type": "stream",
     "text": [
      "Collecting package metadata (repodata.json): done\n",
      "Solving environment: done\n",
      "\n",
      "Downloading and Extracting Packages\n",
      "python-3.8.5         | 49.3 MB   | ##################################### | 100% \n",
      "libuv-1.40.0         | 736 KB    | ##################################### | 100% \n",
      "mkl_fft-1.3.1        | 180 KB    | ##################################### | 100% \n",
      "urllib3-1.26.11      | 182 KB    | ##################################### | 100% \n",
      "numpy-1.19.2         | 10 KB     | ##################################### | 100% \n",
      "cryptography-37.0.1  | 1.3 MB    | ##################################### | 100% \n",
      "zlib-1.2.12          | 106 KB    | ##################################### | 100% \n",
      "libgomp-11.2.0       | 474 KB    | ##################################### | 100% \n",
      "xz-5.2.5             | 339 KB    | ##################################### | 100% \n",
      "tk-8.6.12            | 3.0 MB    | ##################################### | 100% \n",
      "setuptools-61.2.0    | 1012 KB   | ##################################### | 100% \n",
      "torchvision-0.12.0   | 27.7 MB   | ##################################### | 100% \n",
      "libgfortran-ng-11.2. | 20 KB     | ##################################### | 100% \n",
      "sqlite-3.39.2        | 1.1 MB    | ##################################### | 100% \n",
      "libgcc-ng-11.2.0     | 5.3 MB    | ##################################### | 100% \n",
      "ld_impl_linux-64-2.3 | 654 KB    | ##################################### | 100% \n",
      "mkl-service-2.4.0    | 59 KB     | ##################################### | 100% \n",
      "libdeflate-1.8       | 51 KB     | ##################################### | 100% \n",
      "pysocks-1.7.1        | 31 KB     | ##################################### | 100% \n",
      "_openmp_mutex-5.1    | 21 KB     | ##################################### | 100% \n",
      "ca-certificates-2022 | 124 KB    | ##################################### | 100% \n",
      "pytorch-mutex-1.0    | 3 KB      | ##################################### | 100% \n",
      "ncurses-6.3          | 781 KB    | ##################################### | 100% \n",
      "libtiff-4.4.0        | 471 KB    | ##################################### | 100% \n",
      "certifi-2022.6.15    | 153 KB    | ##################################### | 100% \n",
      "pillow-9.2.0         | 666 KB    | ##################################### | 100% \n",
      "libstdcxx-ng-11.2.0  | 4.7 MB    | ##################################### | 100% \n",
      "openssl-1.1.1q       | 2.5 MB    | ##################################### | 100% \n",
      "pip-20.3.3           | 1.8 MB    | ##################################### | 100% \n",
      "libgfortran5-11.2.0  | 2.0 MB    | ##################################### | 100% \n",
      "typing_extensions-4. | 42 KB     | ##################################### | 100% \n",
      "numpy-base-1.19.2    | 10.1 MB   | ##################################### | 100% \n",
      "blas-1.0             | 6 KB      | ##################################### | 100% \n",
      "cudatoolkit-11.3.1   | 549.3 MB  | ##################################### | 100% \n",
      "_libgcc_mutex-0.1    | 3 KB      | ##################################### | 100% \n",
      "cffi-1.15.1          | 228 KB    | ##################################### | 100% \n",
      "pytorch-1.11.0       | 1.02 GB   | ##################################### | 100% \n",
      "mkl_random-1.2.2     | 308 KB    | ##################################### | 100% \n",
      "lerc-3.0             | 196 KB    | ##################################### | 100% \n",
      "requests-2.28.1      | 92 KB     | ##################################### | 100% \n",
      "brotlipy-0.7.0       | 323 KB    | ##################################### | 100% \n",
      "Preparing transaction: done\n",
      "Verifying transaction: done\n",
      "Executing transaction: - By downloading and using the CUDA Toolkit conda packages, you accept the terms and conditions of the CUDA End User License Agreement (EULA): https://docs.nvidia.com/cuda/eula/index.html\n",
      "\n",
      "done\n",
      "Installing pip dependencies: | "
     ]
    }
   ],
   "source": [
    "!conda env create -f environment.yaml\n",
    "!conda activate ldm"
   ]
  },
  {
   "cell_type": "markdown",
   "metadata": {
    "id": "MkkX5ErRqDLM",
    "tags": []
   },
   "source": [
    "# Shitty Dependency Code"
   ]
  },
  {
   "cell_type": "code",
   "execution_count": null,
   "metadata": {
    "colab": {
     "base_uri": "https://localhost:8080/"
    },
    "id": "E_UAtsmbEQ5X",
    "outputId": "8eb82fd6-893d-4288-8875-7bd91b6fd84f"
   },
   "outputs": [],
   "source": [
    "!conda install pytorch torchvision -c pytorch -y\n",
    "!pip install transformers==4.19.2\n",
    "!pip install -e .\n",
    "!conda install omegaconf\n",
    "    !pip install omegaconf\n",
    "!pip install einops\n",
    "!pip install pytorch_lightning\n",
    "#!pip install git+https://github.com/Compvis/latent-diffusion.git\n",
    "#!conda install pytorch==1.9.0 torchvision==0.10.1 -c pytorch -c conda-forge\n",
    "#!pip install ldm\n",
    "#!pip install git+https://github.com/CompVis/latent-diffusion/tree/main/models/ldm.git\n",
    "#!pip install dlib\n",
    "#!pip install pillow==4.0.0\n",
    "!pip install scikit-image\n",
    "#!conda install Pillow==6.1\n",
    "!pip install opencv-python\n",
    "!pip install ai-tools\n",
    "!pip install cognitive-face\n",
    "!pip install zprint\n",
    "#!pip install setuptools==59.5.0\n",
    "!pip install taming-transformers\n",
    "!pip install git+https://github.com/openai/CLIP.git\n",
    "!pip install kornia"
   ]
  },
  {
   "cell_type": "markdown",
   "metadata": {
    "id": "9w456ug2kDO5",
    "jp-MarkdownHeadingCollapsed": true,
    "tags": []
   },
   "source": [
    "# MUST DO\n",
    "\n",
    "REPLACE quantize.py in /usr/local/lib/python3.7/site-packages/taming/modules/vqvae/quantize.py \n",
    "WITH\n",
    "\n",
    "/stable-diffusion/quantize.py\n",
    "\n",
    "rename the new checkpoint to model.ckpt if needed (should be in models/ldm/stable-diffusion-v1/)"
   ]
  },
  {
   "cell_type": "markdown",
   "metadata": {
    "id": "wJScwX1UAEng",
    "jp-MarkdownHeadingCollapsed": true,
    "tags": []
   },
   "source": [
    "# DEBUG SHIT IGNORE THIS"
   ]
  },
  {
   "cell_type": "code",
   "execution_count": null,
   "metadata": {
    "id": "wq3_Mr_sJGid"
   },
   "outputs": [],
   "source": [
    "!mkdir -p models/ldm/stable-diffusion-v1/\n",
    "\n",
    "%cd models/ldm/stable-diffusion-v1/\n",
    "\n",
    "!ln -s /content/drive/My Drive/stable-diffusion-v-1-3/sd-v1-3-full-ema.ckpt /content/drive/My\\ Drive/Stable\\ Run/stable-diffusion/models/ldm/stable-diffusion-v1/\n",
    "\n",
    "OUTDATED:\n",
    "\n",
    "REPLACE ldm.py in usr/local/lib/python3.7/site-packages/ldm.py WITH the one in /content/drive/My Drive/Stable\\ Run/ldm.py\n",
    "\n",
    "REPLACE microsoft_demo.py in /usr/local/lib/python3.7/site-packages/ai_tools/microsoft_demo.py WITH the one in /content/drive/My Drive/Stable\\ Run/microsoft_demo.py"
   ]
  },
  {
   "cell_type": "code",
   "execution_count": null,
   "metadata": {
    "colab": {
     "base_uri": "https://localhost:8080/"
    },
    "id": "CGxaCFQThjco",
    "outputId": "0e11add5-ef8b-4454-e56e-d5ad92f991d5"
   },
   "outputs": [],
   "source": [
    "!pip freeze"
   ]
  },
  {
   "cell_type": "code",
   "execution_count": null,
   "metadata": {
    "colab": {
     "base_uri": "https://localhost:8080/"
    },
    "id": "c5g2z9xDZin9",
    "outputId": "0544e70d-f1e9-4e43-b410-b05b0334bc07"
   },
   "outputs": [],
   "source": [
    "!nvidia-smi"
   ]
  },
  {
   "cell_type": "code",
   "execution_count": null,
   "metadata": {
    "colab": {
     "base_uri": "https://localhost:8080/"
    },
    "id": "biug_Qh4PC37",
    "outputId": "0110a66c-bf73-4245-8f24-19d1cc75a6d2"
   },
   "outputs": [],
   "source": [
    "#Out of memory? try this:\n",
    "\n",
    "#import torch\n",
    "#torch.cuda.empty_cache()\n",
    "\n",
    "#taskkill /F /PID <your PID here>\n",
    "\n",
    "#CUDA torch not enabled? try this:\n",
    "!pip uninstall torch\n",
    "!pip install torch --pre --extra-index-url https://download.pytorch.org/whl/nightly/cu116"
   ]
  },
  {
   "cell_type": "markdown",
   "metadata": {
    "id": "CJvxfonj0yZG",
    "jp-MarkdownHeadingCollapsed": true,
    "tags": []
   },
   "source": [
    "# *For k-diffusion*\n",
    "\n",
    "check this to make sure you install requirements appropriate for jupyter or colab."
   ]
  },
  {
   "cell_type": "code",
   "execution_count": null,
   "metadata": {
    "colab": {
     "base_uri": "https://localhost:8080/"
    },
    "id": "dL2D5mld03yI",
    "outputId": "3e409fec-c871-4857-9f72-2ec71a031322"
   },
   "outputs": [],
   "source": [
    "%pip install lpips\n",
    "%pip install keras\n",
    "%pip install git+https://github.com/crowsonkb/k-diffusion/\n",
    "# %pip install -r /content/drive/MyDrive/requirements.txt #IF USING COLAB\n",
    "%pip install -r /workspace/StableRun/requirements.txt #IF USING JUPYTR"
   ]
  },
  {
   "cell_type": "markdown",
   "metadata": {
    "id": "y_6MvdU4AMyS",
    "tags": []
   },
   "source": [
    "# Sample"
   ]
  },
  {
   "cell_type": "code",
   "execution_count": null,
   "metadata": {
    "colab": {
     "base_uri": "https://localhost:8080/",
     "height": 151
    },
    "id": "g_yjNynVUfUX",
    "outputId": "30e0a677-59ee-43de-c0eb-ae2b81d7b911"
   },
   "outputs": [],
   "source": [
    "# usage: txt2img.py [-h] [--prompt [PROMPT]] [--outdir [OUTDIR]] [--skip_grid] [--skip_save] [--ddim_steps DDIM_STEPS] [--plms] [--laion400m] [--fixed_code] [--ddim_eta DDIM_ETA] [--n_iter N_ITER] [--H H] [--W W] [--C C] [--f F] [--n_samples N_SAMPLES] [--n_rows N_ROWS]\n",
    "#                   [--scale SCALE] [--from-file FROM_FILE] [--config CONFIG] [--ckpt CKPT] [--seed SEED] [--precision {full,autocast}]\n",
    "\n",
    "# optional arguments:\n",
    "#   -h, --help            show this help message and exit\n",
    "#   --prompt [PROMPT]     the prompt to render\n",
    "#   --outdir [OUTDIR]     dir to write results to\n",
    "#   --skip_grid           do not save a grid, only individual samples. Helpful when evaluating lots of samples\n",
    "#   --skip_save           do not save individual samples. For speed measurements.\n",
    "#   --ddim_steps DDIM_STEPS\n",
    "#                         number of ddim sampling steps\n",
    "#   --plms                use plms sampling\n",
    "#   --laion400m           uses the LAION400M model\n",
    "#   --fixed_code          if enabled, uses the same starting code across samples\n",
    "#   --ddim_eta DDIM_ETA   ddim eta (eta=0.0 corresponds to deterministic sampling\n",
    "#   --n_iter N_ITER       sample this often\n",
    "#   --H H                 image height, in pixel space\n",
    "#   --W W                 image width, in pixel space\n",
    "#   --C C                 latent channels\n",
    "#   --f F                 downsampling factor\n",
    "#   --n_samples N_SAMPLES\n",
    "#                         how many samples to produce for each given prompt. A.k.a. batch size\n",
    "#   --n_rows N_ROWS       rows in the grid (default: n_samples)\n",
    "#   --scale SCALE         unconditional guidance scale: eps = eps(x, empty) + scale * (eps(x, cond) - eps(x, empty))\n",
    "#   --from-file FROM_FILE\n",
    "#                         if specified, load prompts from this file\n",
    "#   --config CONFIG       path to config which constructs model\n",
    "#   --ckpt CKPT           path to checkpoint of model\n",
    "#   --seed SEED           the seed (for reproducible sampling)\n",
    "#   --precision {full,autocast}\n",
    "#                         evaluate at this precision\n",
    "\n",
    "\n"
   ]
  },
  {
   "cell_type": "code",
   "execution_count": null,
   "metadata": {},
   "outputs": [],
   "source": [
    "#USING COLAB PRO HIGH-RAM (CHANGE SEED EACH TIME):\n",
    "\n",
    "#txt2img no k_lms sampling\n",
    "#!python scripts/txt2img.py --prompt \"photorealistic award-winning photograph of a dog on a unicycle \" --n_samples 1 --n_iter 1 --ddim_steps 50 --H 640 --scale 7 --seed 4314123 --plms\n",
    "\n",
    "#txt2img with k_lms sampling\n",
    "!python scripts/txt2img.py --prompt \"photorealistic award-winning photograph of a dog on a unicycle \" --n_samples 1 --n_iter 1 --ddim_steps 50 --H 640 --scale 7 --seed 1134143 "
   ]
  },
  {
   "cell_type": "code",
   "execution_count": null,
   "metadata": {
    "colab": {
     "base_uri": "https://localhost:8080/"
    },
    "id": "Wn0Wx7iQJYxQ",
    "outputId": "4205cec0-549d-4652-e3c1-ea01837990c4"
   },
   "outputs": [],
   "source": [
    "#USING 1xA6000 OR EQUIVALENT (CHANGE SEED EACH TIME):\n",
    "\n",
    "#txt2img no k_lms sampling\n",
    "#!python scripts/txt2img.py --prompt \"photorealistic painting portrait of a beautiful gorgeous glorious majestic young Punjabi princess with headphones figurative liminal complex flat natural realism minimalism by Kehinde wiley shadi ghadirian Jimmy nelson oil on canvas cosmic levels shimmer pastel color \" --n_samples 1 --n_iter 1 --ddim_steps 50 --H 768 --scale 7 --seed 1574552011 --plms\n",
    "\n",
    "#txt2img with k_lms sampling\n",
    "!python scripts/txt2img_k.py --prompt \"photorealistic award-winning photograph of a dog on a unicycle \" --n_samples 3 --n_iter 1 --ddim_steps 50 --H 832 --W 576 --scale 10 --seed 9235342"
   ]
  },
  {
   "cell_type": "code",
   "execution_count": null,
   "metadata": {
    "colab": {
     "base_uri": "https://localhost:8080/"
    },
    "id": "NJJUVeQEXjIj",
    "outputId": "59f08729-7019-4b9a-d3ec-d231d5636f7f"
   },
   "outputs": [],
   "source": [
    "#image2image script\n",
    "\n",
    "!python scripts/img2img.py --prompt \"photorealistic painting portrait of a beautiful gorgeous glorious majestic young Punjabi princess with headphones figurative liminal complex flat natural realism minimalism by Kehinde wiley shadi ghadirian Jimmy nelson oil on canvas cosmic levels shimmer pastel color \" --init-img /workspace/StableRun/stable-diffusion/outputs/txt2img-samples/samples/00154.png --strength 0.4 --seed 1574552011 --scale 7 --n_samples 1 --n_iter 1 --ddim_steps 200"
   ]
  }
 ],
 "metadata": {
  "accelerator": "GPU",
  "colab": {
   "collapsed_sections": [
    "pYdmG6nYqJ7E",
    "EJ9uypP-_kJZ"
   ],
   "machine_shape": "hm",
   "name": "STABLE V-1-3 KARAN COLAB HAHAHAHAHA",
   "provenance": []
  },
  "gpuClass": "standard",
  "kernelspec": {
   "display_name": "Python 3 (ipykernel)",
   "language": "python",
   "name": "python3"
  },
  "language_info": {
   "codemirror_mode": {
    "name": "ipython",
    "version": 3
   },
   "file_extension": ".py",
   "mimetype": "text/x-python",
   "name": "python",
   "nbconvert_exporter": "python",
   "pygments_lexer": "ipython3",
   "version": "3.7.13"
  }
 },
 "nbformat": 4,
 "nbformat_minor": 4
}
